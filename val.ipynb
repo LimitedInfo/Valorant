{
 "cells": [
  {
   "cell_type": "code",
   "execution_count": 33,
   "outputs": [],
   "source": [
    "from selenium import webdriver\n",
    "from selenium.webdriver.common.keys import Keys\n",
    "from selenium.webdriver.common.by import By\n",
    "import pandas as pd"
   ],
   "metadata": {
    "collapsed": false,
    "pycharm": {
     "name": "#%%\n"
    }
   }
  },
  {
   "cell_type": "code",
   "execution_count": 12,
   "outputs": [],
   "source": [
    "matches_path = 'https://www.vlr.gg/matches/results'\n",
    "chromedriver_path = r'C:\\Users\\work\\Sportsbetting\\Valorant\\chromedriver.exe'"
   ],
   "metadata": {
    "collapsed": false,
    "pycharm": {
     "name": "#%%\n"
    }
   }
  },
  {
   "cell_type": "code",
   "execution_count": 18,
   "outputs": [],
   "source": [
    "every_day_container_class = 'col.mod-1'"
   ],
   "metadata": {
    "collapsed": false,
    "pycharm": {
     "name": "#%%\n"
    }
   }
  },
  {
   "cell_type": "code",
   "execution_count": 118,
   "outputs": [
    {
     "name": "stderr",
     "output_type": "stream",
     "text": [
      "C:\\Users\\work\\AppData\\Local\\Temp\\ipykernel_16744\\675339469.py:2: DeprecationWarning: executable_path has been deprecated, please pass in a Service object\n",
      "  driver = webdriver.Chrome(executable_path=chromedriver_path)\n"
     ]
    }
   ],
   "source": [
    "# create a new Chrome browser instance\n",
    "driver = webdriver.Chrome(executable_path=chromedriver_path)\n",
    "\n",
    "# navigate to a website\n",
    "driver.get(matches_path)\n",
    "\n",
    "anchors = driver.find_elements(by=By.CSS_SELECTOR, value='a')\n",
    "\n",
    "links = []\n",
    "# Iterate over each anchor element and extract the href attribute\n",
    "for anchor in anchors:\n",
    "    href = anchor.get_attribute('href')\n",
    "    links.append(href)\n",
    "\n",
    "# container = driver.find_element(by=By.CLASS_NAME, value=every_day_container_class)\n",
    "# nested_divs = container.find_elements(by=By.CSS_SELECTOR, value='div')\n",
    "#\n",
    "# data = []\n",
    "# for div in nested_divs:\n",
    "#     data.append((div.text, div.href))\n",
    "\n",
    "driver.quit()"
   ],
   "metadata": {
    "collapsed": false,
    "pycharm": {
     "name": "#%%\n"
    }
   }
  },
  {
   "cell_type": "code",
   "execution_count": 119,
   "outputs": [],
   "source": [
    "def get_totals(cell):\n",
    "    return cell.split()[0]\n",
    "\n",
    "def get_totals_d(cell):\n",
    "    return cell.split()[1]\n",
    "\n",
    "def format_dataframe(dataframes):\n",
    "    \"\"\"\n",
    "    unduplicates data\n",
    "\n",
    "    :param dataframes: dataframes returned using the pandas read_html function on the page source\n",
    "    :return: formatted df\n",
    "    \"\"\"\n",
    "    formatting_df = pd.concat(dataframes[:2])\n",
    "\n",
    "    formatting_df = formatting_df.reset_index()\n",
    "    formatting_df = formatting_df.drop(columns=['index', 'Unnamed: 1'])\n",
    "\n",
    "    formatting_df.iloc[:, 1:4] = formatting_df.iloc[:, 1:4].applymap(get_totals)\n",
    "    formatting_df.iloc[:, 5:] = formatting_df.iloc[:, 5:].applymap(get_totals)\n",
    "    formatting_df['PLAYER'] = formatting_df['Unnamed: 0'].apply(lambda x: x.split()[0])\n",
    "    formatting_df['TEAM'] = formatting_df['Unnamed: 0'].apply(lambda x: x.split()[1])\n",
    "\n",
    "    formatting_df = formatting_df.drop(columns=['Unnamed: 0'])\n",
    "\n",
    "    formatting_df.iloc[:, 3] = formatting_df.iloc[:, 3].apply(get_totals_d)\n",
    "\n",
    "    return formatting_df\n",
    "\n",
    "\n",
    "def get_match_results_data(driver, link):\n",
    "    \"\"\"\n",
    "    :param driver: chromedriver\n",
    "    :param link: link for particular match results page\n",
    "    :return: multiple dataframes of match results, names for images/agent names\n",
    "    \"\"\"\n",
    "\n",
    "    driver.get(link)\n",
    "\n",
    "    source = driver.page_source\n",
    "\n",
    "    dfs = pd.read_html(source)\n",
    "\n",
    "    img_elements = driver.find_elements(By.TAG_NAME, value='img')\n",
    "\n",
    "    # Loop through each image element and extract the \"alt\" text\n",
    "    alt_texts = []\n",
    "    for img_element in img_elements:\n",
    "        alt_text = img_element.get_attribute('alt')\n",
    "        if alt_text:\n",
    "            alt_texts.append(alt_text)\n",
    "\n",
    "\n",
    "    return dfs, alt_texts"
   ],
   "metadata": {
    "collapsed": false,
    "pycharm": {
     "name": "#%%\n"
    }
   }
  },
  {
   "cell_type": "code",
   "execution_count": null,
   "outputs": [],
   "source": [
    "\n",
    "dfs, alt_texts = get_match_results_data(driver, links[0])"
   ],
   "metadata": {
    "collapsed": false,
    "pycharm": {
     "name": "#%%\n",
     "is_executing": true
    }
   }
  },
  {
   "cell_type": "code",
   "execution_count": null,
   "outputs": [],
   "source": [
    "df1 = format_dataframe(dfs)"
   ],
   "metadata": {
    "collapsed": false,
    "pycharm": {
     "name": "#%%\n",
     "is_executing": true
    }
   }
  },
  {
   "cell_type": "code",
   "execution_count": 112,
   "outputs": [],
   "source": [
    "df1['AGENT'] = alt_texts[2:12]"
   ],
   "metadata": {
    "collapsed": false,
    "pycharm": {
     "name": "#%%\n"
    }
   }
  },
  {
   "cell_type": "code",
   "execution_count": 113,
   "outputs": [
    {
     "data": {
      "text/plain": "      R  ACS   K   D   A  +/– KAST  ADR  HS% FK FD +/–.1    PLAYER TEAM  \\\n0  1.53  249  16   6   3  +10  88%  157  29%  4  0    +4      kamo  GTZ   \n1  1.53  289  17   8   5   +9  94%  186  39%  2  3    -1   OLIZERA  GTZ   \n2  1.44  243  14   8  10   +6  88%  146  24%  2  1    +1  RobbieBk  GTZ   \n3  1.25  249  16  10   4   +6  88%  172  27%  1  0    +1   k1zpawn  GTZ   \n4  1.15  183  10   8   9   +2  69%  111  19%  1  2    -1    starkk  GTZ   \n5  1.21  283  18  14   1   +4  63%  156  28%  3  0    +3      Caim   VK   \n6  0.57  145   5  15  10  -10  75%  115  19%  1  0    +1     Pedro   VK   \n7  0.56  138   7  15   2   -8  63%   96  50%  2  2     0       Saa   VK   \n8  0.41  108   5  14   6   -9  50%   72  15%  0  4    -4   RaykiNN   VK   \n9  0.34  101   5  15   1  -10  31%   74  18%  0  4    -4     Tigax   VK   \n\n     AGENT  \n0     jett  \n1  phoenix  \n2     fade  \n3  killjoy  \n4    astra  \n5     jett  \n6     skye  \n7    viper  \n8   harbor  \n9  killjoy  ",
      "text/html": "<div>\n<style scoped>\n    .dataframe tbody tr th:only-of-type {\n        vertical-align: middle;\n    }\n\n    .dataframe tbody tr th {\n        vertical-align: top;\n    }\n\n    .dataframe thead th {\n        text-align: right;\n    }\n</style>\n<table border=\"1\" class=\"dataframe\">\n  <thead>\n    <tr style=\"text-align: right;\">\n      <th></th>\n      <th>R</th>\n      <th>ACS</th>\n      <th>K</th>\n      <th>D</th>\n      <th>A</th>\n      <th>+/–</th>\n      <th>KAST</th>\n      <th>ADR</th>\n      <th>HS%</th>\n      <th>FK</th>\n      <th>FD</th>\n      <th>+/–.1</th>\n      <th>PLAYER</th>\n      <th>TEAM</th>\n      <th>AGENT</th>\n    </tr>\n  </thead>\n  <tbody>\n    <tr>\n      <th>0</th>\n      <td>1.53</td>\n      <td>249</td>\n      <td>16</td>\n      <td>6</td>\n      <td>3</td>\n      <td>+10</td>\n      <td>88%</td>\n      <td>157</td>\n      <td>29%</td>\n      <td>4</td>\n      <td>0</td>\n      <td>+4</td>\n      <td>kamo</td>\n      <td>GTZ</td>\n      <td>jett</td>\n    </tr>\n    <tr>\n      <th>1</th>\n      <td>1.53</td>\n      <td>289</td>\n      <td>17</td>\n      <td>8</td>\n      <td>5</td>\n      <td>+9</td>\n      <td>94%</td>\n      <td>186</td>\n      <td>39%</td>\n      <td>2</td>\n      <td>3</td>\n      <td>-1</td>\n      <td>OLIZERA</td>\n      <td>GTZ</td>\n      <td>phoenix</td>\n    </tr>\n    <tr>\n      <th>2</th>\n      <td>1.44</td>\n      <td>243</td>\n      <td>14</td>\n      <td>8</td>\n      <td>10</td>\n      <td>+6</td>\n      <td>88%</td>\n      <td>146</td>\n      <td>24%</td>\n      <td>2</td>\n      <td>1</td>\n      <td>+1</td>\n      <td>RobbieBk</td>\n      <td>GTZ</td>\n      <td>fade</td>\n    </tr>\n    <tr>\n      <th>3</th>\n      <td>1.25</td>\n      <td>249</td>\n      <td>16</td>\n      <td>10</td>\n      <td>4</td>\n      <td>+6</td>\n      <td>88%</td>\n      <td>172</td>\n      <td>27%</td>\n      <td>1</td>\n      <td>0</td>\n      <td>+1</td>\n      <td>k1zpawn</td>\n      <td>GTZ</td>\n      <td>killjoy</td>\n    </tr>\n    <tr>\n      <th>4</th>\n      <td>1.15</td>\n      <td>183</td>\n      <td>10</td>\n      <td>8</td>\n      <td>9</td>\n      <td>+2</td>\n      <td>69%</td>\n      <td>111</td>\n      <td>19%</td>\n      <td>1</td>\n      <td>2</td>\n      <td>-1</td>\n      <td>starkk</td>\n      <td>GTZ</td>\n      <td>astra</td>\n    </tr>\n    <tr>\n      <th>5</th>\n      <td>1.21</td>\n      <td>283</td>\n      <td>18</td>\n      <td>14</td>\n      <td>1</td>\n      <td>+4</td>\n      <td>63%</td>\n      <td>156</td>\n      <td>28%</td>\n      <td>3</td>\n      <td>0</td>\n      <td>+3</td>\n      <td>Caim</td>\n      <td>VK</td>\n      <td>jett</td>\n    </tr>\n    <tr>\n      <th>6</th>\n      <td>0.57</td>\n      <td>145</td>\n      <td>5</td>\n      <td>15</td>\n      <td>10</td>\n      <td>-10</td>\n      <td>75%</td>\n      <td>115</td>\n      <td>19%</td>\n      <td>1</td>\n      <td>0</td>\n      <td>+1</td>\n      <td>Pedro</td>\n      <td>VK</td>\n      <td>skye</td>\n    </tr>\n    <tr>\n      <th>7</th>\n      <td>0.56</td>\n      <td>138</td>\n      <td>7</td>\n      <td>15</td>\n      <td>2</td>\n      <td>-8</td>\n      <td>63%</td>\n      <td>96</td>\n      <td>50%</td>\n      <td>2</td>\n      <td>2</td>\n      <td>0</td>\n      <td>Saa</td>\n      <td>VK</td>\n      <td>viper</td>\n    </tr>\n    <tr>\n      <th>8</th>\n      <td>0.41</td>\n      <td>108</td>\n      <td>5</td>\n      <td>14</td>\n      <td>6</td>\n      <td>-9</td>\n      <td>50%</td>\n      <td>72</td>\n      <td>15%</td>\n      <td>0</td>\n      <td>4</td>\n      <td>-4</td>\n      <td>RaykiNN</td>\n      <td>VK</td>\n      <td>harbor</td>\n    </tr>\n    <tr>\n      <th>9</th>\n      <td>0.34</td>\n      <td>101</td>\n      <td>5</td>\n      <td>15</td>\n      <td>1</td>\n      <td>-10</td>\n      <td>31%</td>\n      <td>74</td>\n      <td>18%</td>\n      <td>0</td>\n      <td>4</td>\n      <td>-4</td>\n      <td>Tigax</td>\n      <td>VK</td>\n      <td>killjoy</td>\n    </tr>\n  </tbody>\n</table>\n</div>"
     },
     "execution_count": 113,
     "metadata": {},
     "output_type": "execute_result"
    }
   ],
   "source": [
    "df1"
   ],
   "metadata": {
    "collapsed": false,
    "pycharm": {
     "name": "#%%\n"
    }
   }
  }
 ],
 "metadata": {
  "kernelspec": {
   "display_name": "Python 3",
   "language": "python",
   "name": "python3"
  },
  "language_info": {
   "codemirror_mode": {
    "name": "ipython",
    "version": 2
   },
   "file_extension": ".py",
   "mimetype": "text/x-python",
   "name": "python",
   "nbconvert_exporter": "python",
   "pygments_lexer": "ipython2",
   "version": "2.7.6"
  }
 },
 "nbformat": 4,
 "nbformat_minor": 0
}