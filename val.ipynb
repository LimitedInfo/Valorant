{
 "cells": [
  {
   "cell_type": "code",
   "execution_count": 1,
   "outputs": [],
   "source": [
    "from selenium import webdriver\n",
    "from selenium.webdriver.common.keys import Keys\n",
    "from selenium.webdriver.common.by import By\n",
    "from selenium.common.exceptions import NoSuchElementException\n",
    "import pandas as pd"
   ],
   "metadata": {
    "collapsed": false,
    "pycharm": {
     "name": "#%%\n"
    }
   }
  },
  {
   "cell_type": "markdown",
   "source": [
    "data\n",
    "map 1 = 0/1\n",
    "map 2 = 4/5\n",
    "map 3 = 6/7"
   ],
   "metadata": {
    "collapsed": false,
    "pycharm": {
     "name": "#%% md\n"
    }
   }
  },
  {
   "cell_type": "code",
   "execution_count": 73,
   "outputs": [],
   "source": [
    "def get_totals(cell):\n",
    "    return cell.split()[0]\n",
    "\n",
    "def get_totals_d(cell):\n",
    "    return cell.split()[1]\n",
    "\n",
    "def format_dataframe(dataframes, map_num):\n",
    "    \"\"\"\n",
    "    unduplicates data\n",
    "\n",
    "    :param dataframes: dataframes returned using the pandas read_html function on the page source\n",
    "    :param map_num: indexed starting at 1 for which map is being played in a series\n",
    "    :return: formatted df\n",
    "    \"\"\"\n",
    "\n",
    "    if map_num == 1:\n",
    "        formatting_df = pd.concat(dataframes[:2])\n",
    "    elif map_num == 2:\n",
    "        formatting_df = pd.concat([dataframes[4], dataframes[5]])\n",
    "    elif map_num == 3:\n",
    "        formatting_df = pd.concat([dataframes[6], dataframes[7]])\n",
    "\n",
    "\n",
    "    formatting_df = formatting_df.reset_index()\n",
    "    formatting_df = formatting_df.drop(columns=['index', 'Unnamed: 1'])\n",
    "\n",
    "    formatting_df.iloc[:, 1:4] = formatting_df.iloc[:, 1:4].applymap(get_totals)\n",
    "    formatting_df.iloc[:, 5:] = formatting_df.iloc[:, 5:].applymap(get_totals)\n",
    "    formatting_df['PLAYER'] = formatting_df['Unnamed: 0'].apply(lambda x: x.split()[0])\n",
    "    formatting_df['TEAM'] = formatting_df['Unnamed: 0'].apply(lambda x: x.split()[1])\n",
    "\n",
    "    formatting_df = formatting_df.drop(columns=['Unnamed: 0'])\n",
    "\n",
    "    formatting_df.iloc[:, 3] = formatting_df.iloc[:, 3].apply(get_totals_d)\n",
    "\n",
    "    return formatting_df\n",
    "\n",
    "\n",
    "def get_match_results_data(source, link):\n",
    "    \"\"\"\n",
    "    :param source: pagesource\n",
    "    :param link: link for particular match results page\n",
    "    :return: multiple dataframes of match results, names for images/agent names\n",
    "    \"\"\"\n",
    "    dfs = pd.read_html(source)\n",
    "\n",
    "    img_elements = driver.find_elements(By.TAG_NAME, value='img')\n",
    "\n",
    "    # Loop through each image element and extract the \"alt\" text\n",
    "    alt_texts = []\n",
    "    for img_element in img_elements:\n",
    "        alt_text = img_element.get_attribute('alt')\n",
    "        if alt_text:\n",
    "            alt_texts.append(alt_text)\n",
    "\n",
    "\n",
    "    return dfs, alt_texts"
   ],
   "metadata": {
    "collapsed": false,
    "pycharm": {
     "name": "#%%\n"
    }
   }
  },
  {
   "cell_type": "markdown",
   "source": [
    "team information\n",
    "0/1 = map 1 = 0\n",
    "4/5 = map 2 = 1\n",
    "8/9 = map 3 = 2\n"
   ],
   "metadata": {
    "collapsed": false,
    "pycharm": {
     "name": "#%% md\n"
    }
   }
  },
  {
   "cell_type": "code",
   "execution_count": 198,
   "outputs": [],
   "source": [
    "def get_data(driver, map_num, map_name):\n",
    "    dfs = pd.read_html(driver.page_source)\n",
    "    df1 = format_dataframe(dfs, map_num)\n",
    "\n",
    "\n",
    "    #define element needed to be searched for team information depending on map number\n",
    "    if map_num == 1:\n",
    "        team_nums = [0,1]\n",
    "    elif map_num == 2:\n",
    "        team_nums = [4,5]\n",
    "    elif map_num == 3:\n",
    "        team_nums = [8,9]\n",
    "\n",
    "    #add agents\n",
    "    dfs, alt_texts = get_match_results_data(driver.page_source, links[0])\n",
    "    df1['AGENT'] = alt_texts[2:12]\n",
    "\n",
    "    # Get Time/Teams/Map for creating a primary key\n",
    "    time_of_map = driver.find_element(By.CLASS_NAME, value='moment-tz-convert')\n",
    "    time_of_map = time_of_map.get_attribute('data-utc-ts')\n",
    "\n",
    "    # map_name = driver.find_element(By.CLASS_NAME, value='map')\n",
    "    # print(map_name.text)\n",
    "    # map_name = map_name.text.split('\\n')[0]\n",
    "    df1['map'] = map_name\n",
    "\n",
    "\n",
    "    #get rounds won and team names\n",
    "    team_information = driver.find_elements(By.CLASS_NAME, value='vm-stats-game-header')[map_num-1]\n",
    "    right_team = team_information.find_element(By.CLASS_NAME, value='team.mod-right')\n",
    "    left_team = team_information.find_element(By.CLASS_NAME, value='team')\n",
    "\n",
    "    formatted_team_information = right_team.text.split('\\n')\n",
    "\n",
    "    away_team_information = formatted_team_information[0]\n",
    "    away_rounds_won = formatted_team_information[-1]\n",
    "    df1['rounds_won'] = 0\n",
    "    df1['rounds_won'].iloc[5:] = away_rounds_won\n",
    "\n",
    "    formatted_team_information_home = left_team.text.split('\\n')\n",
    "\n",
    "    home_team_information = formatted_team_information_home[-2]\n",
    "    home_rounds_won = formatted_team_information_home[0]\n",
    "    df1['rounds_won'].iloc[:5] = home_rounds_won\n",
    "\n",
    "    #create primary key\n",
    "    df1['match_id'] = home_team_information + ' ' + away_team_information + ' ' + map_name + ' ' + time_of_map\n",
    "\n",
    "    return df1"
   ],
   "metadata": {
    "collapsed": false,
    "pycharm": {
     "name": "#%%\n"
    }
   }
  },
  {
   "cell_type": "code",
   "execution_count": 75,
   "outputs": [],
   "source": [
    "matches_path = 'https://www.vlr.gg/matches/results'\n",
    "chromedriver_path = r'C:\\Users\\work\\Sportsbetting\\Valorant\\chromedriver.exe'"
   ],
   "metadata": {
    "collapsed": false,
    "pycharm": {
     "name": "#%%\n"
    }
   }
  },
  {
   "cell_type": "code",
   "execution_count": 76,
   "outputs": [],
   "source": [
    "every_day_container_class = 'col.mod-1'\n",
    "# create a new Chrome browser instance\n"
   ],
   "metadata": {
    "collapsed": false,
    "pycharm": {
     "name": "#%%\n"
    }
   }
  },
  {
   "cell_type": "markdown",
   "source": [
    "### GET LINKS TO MATCH RESULTS"
   ],
   "metadata": {
    "collapsed": false,
    "pycharm": {
     "name": "#%% md\n"
    }
   }
  },
  {
   "cell_type": "code",
   "execution_count": 77,
   "outputs": [
    {
     "name": "stderr",
     "output_type": "stream",
     "text": [
      "C:\\Users\\work\\AppData\\Local\\Temp\\ipykernel_15692\\3993812057.py:1: DeprecationWarning: executable_path has been deprecated, please pass in a Service object\n",
      "  driver = webdriver.Chrome(executable_path=chromedriver_path)\n"
     ]
    }
   ],
   "source": [
    "driver = webdriver.Chrome(executable_path=chromedriver_path)\n",
    "# navigate to a website\n",
    "driver.get(matches_path)\n",
    "\n",
    "anchors = driver.find_elements(by=By.CSS_SELECTOR, value='a')\n",
    "\n",
    "links = []\n",
    "# Iterate over each anchor element and extract the href attribute\n",
    "for anchor in anchors:\n",
    "    href = anchor.get_attribute('href')\n",
    "    links.append(href)\n",
    "\n",
    "# container = driver.find_element(by=By.CLASS_NAME, value=every_day_container_class)\n",
    "# nested_divs = container.find_elements(by=By.CSS_SELECTOR, value='div')\n",
    "#\n",
    "# data = []\n",
    "# for div in nested_divs:\n",
    "#     data.append((div.text, div.href))"
   ],
   "metadata": {
    "collapsed": false,
    "pycharm": {
     "name": "#%%\n"
    }
   }
  },
  {
   "cell_type": "code",
   "execution_count": 203,
   "outputs": [],
   "source": [
    "links = links[14:-10]"
   ],
   "metadata": {
    "collapsed": false,
    "pycharm": {
     "name": "#%%\n"
    }
   }
  },
  {
   "cell_type": "code",
   "execution_count": 199,
   "outputs": [
    {
     "data": {
      "text/plain": "'https://www.vlr.gg/197253/guild-x-vs-acend-rising-game-changers-2023-series-i-emea-groups-r2'"
     },
     "execution_count": 199,
     "metadata": {},
     "output_type": "execute_result"
    }
   ],
   "source": [
    "links[0]"
   ],
   "metadata": {
    "collapsed": false,
    "pycharm": {
     "name": "#%%\n"
    }
   }
  },
  {
   "cell_type": "code",
   "execution_count": 212,
   "outputs": [
    {
     "ename": "IndexError",
     "evalue": "list index out of range",
     "output_type": "error",
     "traceback": [
      "\u001B[1;31m---------------------------------------------------------------------------\u001B[0m",
      "\u001B[1;31mIndexError\u001B[0m                                Traceback (most recent call last)",
      "Input \u001B[1;32mIn [212]\u001B[0m, in \u001B[0;36m<cell line: 1>\u001B[1;34m()\u001B[0m\n\u001B[1;32m----> 1\u001B[0m driver\u001B[38;5;241m.\u001B[39mget(\u001B[43mlinks\u001B[49m\u001B[43m[\u001B[49m\u001B[38;5;241;43m3\u001B[39;49m\u001B[43m]\u001B[49m)\n\u001B[0;32m      3\u001B[0m \u001B[38;5;28;01mtry\u001B[39;00m:\n\u001B[0;32m      4\u001B[0m     more_than_one_map \u001B[38;5;241m=\u001B[39m driver\u001B[38;5;241m.\u001B[39mfind_element(By\u001B[38;5;241m.\u001B[39mCLASS_NAME, value\u001B[38;5;241m=\u001B[39m\u001B[38;5;124m'\u001B[39m\u001B[38;5;124mvm-stats-gamesnav.noselect  \u001B[39m\u001B[38;5;124m'\u001B[39m)\n",
      "\u001B[1;31mIndexError\u001B[0m: list index out of range"
     ]
    }
   ],
   "source": [
    "driver.get(links[3])\n",
    "\n",
    "try:\n",
    "    more_than_one_map = driver.find_element(By.CLASS_NAME, value='vm-stats-gamesnav.noselect  ')\n",
    "except NoSuchElementException:\n",
    "    print('only one map')\n",
    "    more_than_one_map = None"
   ],
   "metadata": {
    "collapsed": false,
    "pycharm": {
     "name": "#%%\n"
    }
   }
  },
  {
   "cell_type": "code",
   "execution_count": 209,
   "outputs": [
    {
     "name": "stdout",
     "output_type": "stream",
     "text": [
      "1 Ascent 2 Haven 3 N/A\n"
     ]
    },
    {
     "name": "stderr",
     "output_type": "stream",
     "text": [
      "C:\\Users\\work\\AppData\\Local\\Temp\\ipykernel_15692\\182681341.py:38: SettingWithCopyWarning: \n",
      "A value is trying to be set on a copy of a slice from a DataFrame\n",
      "\n",
      "See the caveats in the documentation: https://pandas.pydata.org/pandas-docs/stable/user_guide/indexing.html#returning-a-view-versus-a-copy\n",
      "  df1['rounds_won'].iloc[5:] = away_rounds_won\n",
      "C:\\Users\\work\\AppData\\Local\\Temp\\ipykernel_15692\\182681341.py:38: SettingWithCopyWarning: \n",
      "A value is trying to be set on a copy of a slice from a DataFrame\n",
      "\n",
      "See the caveats in the documentation: https://pandas.pydata.org/pandas-docs/stable/user_guide/indexing.html#returning-a-view-versus-a-copy\n",
      "  df1['rounds_won'].iloc[5:] = away_rounds_won\n"
     ]
    }
   ],
   "source": [
    "dataframes = []\n",
    "\n",
    "if more_than_one_map:\n",
    "    map_buttons_1 = driver.find_element(By.XPATH, '//*[@id=\"wrapper\"]/div[1]/div[3]/div[6]/div/div[1]/div[2]/div/div[2]')\n",
    "    map_buttons_2 = driver.find_element(By.XPATH, '//*[@id=\"wrapper\"]/div[1]/div[3]/div[6]/div/div[1]/div[2]/div/div[3]')\n",
    "    map_buttons_3 = driver.find_element(By.XPATH, '//*[@id=\"wrapper\"]/div[1]/div[3]/div[6]/div/div[1]/div[2]/div/div[4]')\n",
    "    print(map_buttons_1.text, map_buttons_2.text, map_buttons_3.text)\n",
    "    map_buttons = [map_buttons_1, map_buttons_2, map_buttons_3]\n",
    "\n",
    "    for map, button in enumerate(map_buttons):\n",
    "        if 'N/A' not in button.text:\n",
    "            button.click()\n",
    "            df = get_data(driver, map+1, map_buttons[map].text.split()[1])\n",
    "            dataframes.append(df)\n",
    "\n",
    "\n",
    "else:\n",
    "    df = get_data(driver, 1, driver.find_element(By.CLASS_NAME, value='map').text.split('\\n')[0])\n",
    "    dataframes.append(df)"
   ],
   "metadata": {
    "collapsed": false,
    "pycharm": {
     "name": "#%%\n"
    }
   }
  },
  {
   "cell_type": "code",
   "execution_count": 210,
   "outputs": [
    {
     "data": {
      "text/plain": "      R  ACS   K   D   A +/– KAST  ADR  HS% FK FD +/–.1    PLAYER TEAM  \\\n0  1.31  248  22  14   6  +8  77%  164  41%  3  2    +1      quin  ODG   \n1  1.16  192  15  15  15   0  65%  136  44%  1  2    -1     SiMon  ODG   \n2  1.12  249  22  19   2  +3  54%  151  29%  5  5     0   TianYan  ODG   \n3  0.92  202  17  20   4  -3  54%  131  22%  2  2     0  razkiNgz  ODG   \n4  0.75   90   8  16   5  -8  58%   63  42%  1  3    -2       dxy  ODG   \n5  1.15  212  19  16   7  +3  77%  136  23%  3  1    +2        x8  KBG   \n6  1.12  198  16  15  15  +1  88%  135  14%  1  0    +1    Yiwaii  KBG   \n7  0.98  207  19  17   6  +2  73%  136  16%  3  2    +1    KOKORO  KBG   \n8  0.95  179  15  17  11  -2  65%  109  22%  1  1     0      0n1y  KBG   \n9  0.75  155  15  19   2  -4  62%   96  21%  6  8    -2     River  KBG   \n\n     AGENT     map rounds_won                                        match_id  \n0     omen  Ascent         14  ODG KeepBest Gaming Ascent 2023-04-25 03:30:00  \n1     kayo  Ascent         14  ODG KeepBest Gaming Ascent 2023-04-25 03:30:00  \n2     jett  Ascent         14  ODG KeepBest Gaming Ascent 2023-04-25 03:30:00  \n3  killjoy  Ascent         14  ODG KeepBest Gaming Ascent 2023-04-25 03:30:00  \n4     sova  Ascent         14  ODG KeepBest Gaming Ascent 2023-04-25 03:30:00  \n5     sova  Ascent         12  ODG KeepBest Gaming Ascent 2023-04-25 03:30:00  \n6     kayo  Ascent         12  ODG KeepBest Gaming Ascent 2023-04-25 03:30:00  \n7  killjoy  Ascent         12  ODG KeepBest Gaming Ascent 2023-04-25 03:30:00  \n8     omen  Ascent         12  ODG KeepBest Gaming Ascent 2023-04-25 03:30:00  \n9     jett  Ascent         12  ODG KeepBest Gaming Ascent 2023-04-25 03:30:00  ",
      "text/html": "<div>\n<style scoped>\n    .dataframe tbody tr th:only-of-type {\n        vertical-align: middle;\n    }\n\n    .dataframe tbody tr th {\n        vertical-align: top;\n    }\n\n    .dataframe thead th {\n        text-align: right;\n    }\n</style>\n<table border=\"1\" class=\"dataframe\">\n  <thead>\n    <tr style=\"text-align: right;\">\n      <th></th>\n      <th>R</th>\n      <th>ACS</th>\n      <th>K</th>\n      <th>D</th>\n      <th>A</th>\n      <th>+/–</th>\n      <th>KAST</th>\n      <th>ADR</th>\n      <th>HS%</th>\n      <th>FK</th>\n      <th>FD</th>\n      <th>+/–.1</th>\n      <th>PLAYER</th>\n      <th>TEAM</th>\n      <th>AGENT</th>\n      <th>map</th>\n      <th>rounds_won</th>\n      <th>match_id</th>\n    </tr>\n  </thead>\n  <tbody>\n    <tr>\n      <th>0</th>\n      <td>1.31</td>\n      <td>248</td>\n      <td>22</td>\n      <td>14</td>\n      <td>6</td>\n      <td>+8</td>\n      <td>77%</td>\n      <td>164</td>\n      <td>41%</td>\n      <td>3</td>\n      <td>2</td>\n      <td>+1</td>\n      <td>quin</td>\n      <td>ODG</td>\n      <td>omen</td>\n      <td>Ascent</td>\n      <td>14</td>\n      <td>ODG KeepBest Gaming Ascent 2023-04-25 03:30:00</td>\n    </tr>\n    <tr>\n      <th>1</th>\n      <td>1.16</td>\n      <td>192</td>\n      <td>15</td>\n      <td>15</td>\n      <td>15</td>\n      <td>0</td>\n      <td>65%</td>\n      <td>136</td>\n      <td>44%</td>\n      <td>1</td>\n      <td>2</td>\n      <td>-1</td>\n      <td>SiMon</td>\n      <td>ODG</td>\n      <td>kayo</td>\n      <td>Ascent</td>\n      <td>14</td>\n      <td>ODG KeepBest Gaming Ascent 2023-04-25 03:30:00</td>\n    </tr>\n    <tr>\n      <th>2</th>\n      <td>1.12</td>\n      <td>249</td>\n      <td>22</td>\n      <td>19</td>\n      <td>2</td>\n      <td>+3</td>\n      <td>54%</td>\n      <td>151</td>\n      <td>29%</td>\n      <td>5</td>\n      <td>5</td>\n      <td>0</td>\n      <td>TianYan</td>\n      <td>ODG</td>\n      <td>jett</td>\n      <td>Ascent</td>\n      <td>14</td>\n      <td>ODG KeepBest Gaming Ascent 2023-04-25 03:30:00</td>\n    </tr>\n    <tr>\n      <th>3</th>\n      <td>0.92</td>\n      <td>202</td>\n      <td>17</td>\n      <td>20</td>\n      <td>4</td>\n      <td>-3</td>\n      <td>54%</td>\n      <td>131</td>\n      <td>22%</td>\n      <td>2</td>\n      <td>2</td>\n      <td>0</td>\n      <td>razkiNgz</td>\n      <td>ODG</td>\n      <td>killjoy</td>\n      <td>Ascent</td>\n      <td>14</td>\n      <td>ODG KeepBest Gaming Ascent 2023-04-25 03:30:00</td>\n    </tr>\n    <tr>\n      <th>4</th>\n      <td>0.75</td>\n      <td>90</td>\n      <td>8</td>\n      <td>16</td>\n      <td>5</td>\n      <td>-8</td>\n      <td>58%</td>\n      <td>63</td>\n      <td>42%</td>\n      <td>1</td>\n      <td>3</td>\n      <td>-2</td>\n      <td>dxy</td>\n      <td>ODG</td>\n      <td>sova</td>\n      <td>Ascent</td>\n      <td>14</td>\n      <td>ODG KeepBest Gaming Ascent 2023-04-25 03:30:00</td>\n    </tr>\n    <tr>\n      <th>5</th>\n      <td>1.15</td>\n      <td>212</td>\n      <td>19</td>\n      <td>16</td>\n      <td>7</td>\n      <td>+3</td>\n      <td>77%</td>\n      <td>136</td>\n      <td>23%</td>\n      <td>3</td>\n      <td>1</td>\n      <td>+2</td>\n      <td>x8</td>\n      <td>KBG</td>\n      <td>sova</td>\n      <td>Ascent</td>\n      <td>12</td>\n      <td>ODG KeepBest Gaming Ascent 2023-04-25 03:30:00</td>\n    </tr>\n    <tr>\n      <th>6</th>\n      <td>1.12</td>\n      <td>198</td>\n      <td>16</td>\n      <td>15</td>\n      <td>15</td>\n      <td>+1</td>\n      <td>88%</td>\n      <td>135</td>\n      <td>14%</td>\n      <td>1</td>\n      <td>0</td>\n      <td>+1</td>\n      <td>Yiwaii</td>\n      <td>KBG</td>\n      <td>kayo</td>\n      <td>Ascent</td>\n      <td>12</td>\n      <td>ODG KeepBest Gaming Ascent 2023-04-25 03:30:00</td>\n    </tr>\n    <tr>\n      <th>7</th>\n      <td>0.98</td>\n      <td>207</td>\n      <td>19</td>\n      <td>17</td>\n      <td>6</td>\n      <td>+2</td>\n      <td>73%</td>\n      <td>136</td>\n      <td>16%</td>\n      <td>3</td>\n      <td>2</td>\n      <td>+1</td>\n      <td>KOKORO</td>\n      <td>KBG</td>\n      <td>killjoy</td>\n      <td>Ascent</td>\n      <td>12</td>\n      <td>ODG KeepBest Gaming Ascent 2023-04-25 03:30:00</td>\n    </tr>\n    <tr>\n      <th>8</th>\n      <td>0.95</td>\n      <td>179</td>\n      <td>15</td>\n      <td>17</td>\n      <td>11</td>\n      <td>-2</td>\n      <td>65%</td>\n      <td>109</td>\n      <td>22%</td>\n      <td>1</td>\n      <td>1</td>\n      <td>0</td>\n      <td>0n1y</td>\n      <td>KBG</td>\n      <td>omen</td>\n      <td>Ascent</td>\n      <td>12</td>\n      <td>ODG KeepBest Gaming Ascent 2023-04-25 03:30:00</td>\n    </tr>\n    <tr>\n      <th>9</th>\n      <td>0.75</td>\n      <td>155</td>\n      <td>15</td>\n      <td>19</td>\n      <td>2</td>\n      <td>-4</td>\n      <td>62%</td>\n      <td>96</td>\n      <td>21%</td>\n      <td>6</td>\n      <td>8</td>\n      <td>-2</td>\n      <td>River</td>\n      <td>KBG</td>\n      <td>jett</td>\n      <td>Ascent</td>\n      <td>12</td>\n      <td>ODG KeepBest Gaming Ascent 2023-04-25 03:30:00</td>\n    </tr>\n  </tbody>\n</table>\n</div>"
     },
     "execution_count": 210,
     "metadata": {},
     "output_type": "execute_result"
    }
   ],
   "source": [
    "dataframes[0]"
   ],
   "metadata": {
    "collapsed": false,
    "pycharm": {
     "name": "#%%\n"
    }
   }
  },
  {
   "cell_type": "code",
   "execution_count": 211,
   "outputs": [
    {
     "data": {
      "text/plain": "      R  ACS   K   D   A +/– KAST  ADR  HS% FK FD +/–.1    PLAYER TEAM  \\\n0  1.44  260  21  14  10  +7  79%  164  25%  5  0    +5      quin  ODG   \n1  1.18  271  23  17   2  +6  63%  183  32%  4  1    +3  razkiNgz  ODG   \n2  1.13  183  15  13  16  +2  83%  125  21%  0  0     0     SiMon  ODG   \n3  0.89  187  16  17   3  -1  63%  126  44%  5  7    -2   TianYan  ODG   \n4  0.89  133  13  14   3  -1  79%   90  60%  2  0    +2       dxy  ODG   \n5  0.97  183  18  17   3  +1  63%  106  16%  1  1     0    Yiwaii  KBG   \n6  0.97  191  15  18   5  -3  63%  119  26%  6  5    +1     River  KBG   \n7  0.97  156  13  16   7  -3  79%  103  26%  0  3    -3      0n1y  KBG   \n8  0.85  194  17  19   6  -2  71%  118  18%  1  3    -2    KOKORO  KBG   \n9  0.77  169  12  18  12  -6  75%  118   9%  0  4    -4        x8  KBG   \n\n     AGENT    map rounds_won                                       match_id  \n0     omen  Haven         13  ODG KeepBest Gaming Haven 2023-04-25 03:30:00  \n1     kayo  Haven         13  ODG KeepBest Gaming Haven 2023-04-25 03:30:00  \n2     jett  Haven         13  ODG KeepBest Gaming Haven 2023-04-25 03:30:00  \n3  killjoy  Haven         13  ODG KeepBest Gaming Haven 2023-04-25 03:30:00  \n4     sova  Haven         13  ODG KeepBest Gaming Haven 2023-04-25 03:30:00  \n5     sova  Haven         11  ODG KeepBest Gaming Haven 2023-04-25 03:30:00  \n6     kayo  Haven         11  ODG KeepBest Gaming Haven 2023-04-25 03:30:00  \n7  killjoy  Haven         11  ODG KeepBest Gaming Haven 2023-04-25 03:30:00  \n8     omen  Haven         11  ODG KeepBest Gaming Haven 2023-04-25 03:30:00  \n9     jett  Haven         11  ODG KeepBest Gaming Haven 2023-04-25 03:30:00  ",
      "text/html": "<div>\n<style scoped>\n    .dataframe tbody tr th:only-of-type {\n        vertical-align: middle;\n    }\n\n    .dataframe tbody tr th {\n        vertical-align: top;\n    }\n\n    .dataframe thead th {\n        text-align: right;\n    }\n</style>\n<table border=\"1\" class=\"dataframe\">\n  <thead>\n    <tr style=\"text-align: right;\">\n      <th></th>\n      <th>R</th>\n      <th>ACS</th>\n      <th>K</th>\n      <th>D</th>\n      <th>A</th>\n      <th>+/–</th>\n      <th>KAST</th>\n      <th>ADR</th>\n      <th>HS%</th>\n      <th>FK</th>\n      <th>FD</th>\n      <th>+/–.1</th>\n      <th>PLAYER</th>\n      <th>TEAM</th>\n      <th>AGENT</th>\n      <th>map</th>\n      <th>rounds_won</th>\n      <th>match_id</th>\n    </tr>\n  </thead>\n  <tbody>\n    <tr>\n      <th>0</th>\n      <td>1.44</td>\n      <td>260</td>\n      <td>21</td>\n      <td>14</td>\n      <td>10</td>\n      <td>+7</td>\n      <td>79%</td>\n      <td>164</td>\n      <td>25%</td>\n      <td>5</td>\n      <td>0</td>\n      <td>+5</td>\n      <td>quin</td>\n      <td>ODG</td>\n      <td>omen</td>\n      <td>Haven</td>\n      <td>13</td>\n      <td>ODG KeepBest Gaming Haven 2023-04-25 03:30:00</td>\n    </tr>\n    <tr>\n      <th>1</th>\n      <td>1.18</td>\n      <td>271</td>\n      <td>23</td>\n      <td>17</td>\n      <td>2</td>\n      <td>+6</td>\n      <td>63%</td>\n      <td>183</td>\n      <td>32%</td>\n      <td>4</td>\n      <td>1</td>\n      <td>+3</td>\n      <td>razkiNgz</td>\n      <td>ODG</td>\n      <td>kayo</td>\n      <td>Haven</td>\n      <td>13</td>\n      <td>ODG KeepBest Gaming Haven 2023-04-25 03:30:00</td>\n    </tr>\n    <tr>\n      <th>2</th>\n      <td>1.13</td>\n      <td>183</td>\n      <td>15</td>\n      <td>13</td>\n      <td>16</td>\n      <td>+2</td>\n      <td>83%</td>\n      <td>125</td>\n      <td>21%</td>\n      <td>0</td>\n      <td>0</td>\n      <td>0</td>\n      <td>SiMon</td>\n      <td>ODG</td>\n      <td>jett</td>\n      <td>Haven</td>\n      <td>13</td>\n      <td>ODG KeepBest Gaming Haven 2023-04-25 03:30:00</td>\n    </tr>\n    <tr>\n      <th>3</th>\n      <td>0.89</td>\n      <td>187</td>\n      <td>16</td>\n      <td>17</td>\n      <td>3</td>\n      <td>-1</td>\n      <td>63%</td>\n      <td>126</td>\n      <td>44%</td>\n      <td>5</td>\n      <td>7</td>\n      <td>-2</td>\n      <td>TianYan</td>\n      <td>ODG</td>\n      <td>killjoy</td>\n      <td>Haven</td>\n      <td>13</td>\n      <td>ODG KeepBest Gaming Haven 2023-04-25 03:30:00</td>\n    </tr>\n    <tr>\n      <th>4</th>\n      <td>0.89</td>\n      <td>133</td>\n      <td>13</td>\n      <td>14</td>\n      <td>3</td>\n      <td>-1</td>\n      <td>79%</td>\n      <td>90</td>\n      <td>60%</td>\n      <td>2</td>\n      <td>0</td>\n      <td>+2</td>\n      <td>dxy</td>\n      <td>ODG</td>\n      <td>sova</td>\n      <td>Haven</td>\n      <td>13</td>\n      <td>ODG KeepBest Gaming Haven 2023-04-25 03:30:00</td>\n    </tr>\n    <tr>\n      <th>5</th>\n      <td>0.97</td>\n      <td>183</td>\n      <td>18</td>\n      <td>17</td>\n      <td>3</td>\n      <td>+1</td>\n      <td>63%</td>\n      <td>106</td>\n      <td>16%</td>\n      <td>1</td>\n      <td>1</td>\n      <td>0</td>\n      <td>Yiwaii</td>\n      <td>KBG</td>\n      <td>sova</td>\n      <td>Haven</td>\n      <td>11</td>\n      <td>ODG KeepBest Gaming Haven 2023-04-25 03:30:00</td>\n    </tr>\n    <tr>\n      <th>6</th>\n      <td>0.97</td>\n      <td>191</td>\n      <td>15</td>\n      <td>18</td>\n      <td>5</td>\n      <td>-3</td>\n      <td>63%</td>\n      <td>119</td>\n      <td>26%</td>\n      <td>6</td>\n      <td>5</td>\n      <td>+1</td>\n      <td>River</td>\n      <td>KBG</td>\n      <td>kayo</td>\n      <td>Haven</td>\n      <td>11</td>\n      <td>ODG KeepBest Gaming Haven 2023-04-25 03:30:00</td>\n    </tr>\n    <tr>\n      <th>7</th>\n      <td>0.97</td>\n      <td>156</td>\n      <td>13</td>\n      <td>16</td>\n      <td>7</td>\n      <td>-3</td>\n      <td>79%</td>\n      <td>103</td>\n      <td>26%</td>\n      <td>0</td>\n      <td>3</td>\n      <td>-3</td>\n      <td>0n1y</td>\n      <td>KBG</td>\n      <td>killjoy</td>\n      <td>Haven</td>\n      <td>11</td>\n      <td>ODG KeepBest Gaming Haven 2023-04-25 03:30:00</td>\n    </tr>\n    <tr>\n      <th>8</th>\n      <td>0.85</td>\n      <td>194</td>\n      <td>17</td>\n      <td>19</td>\n      <td>6</td>\n      <td>-2</td>\n      <td>71%</td>\n      <td>118</td>\n      <td>18%</td>\n      <td>1</td>\n      <td>3</td>\n      <td>-2</td>\n      <td>KOKORO</td>\n      <td>KBG</td>\n      <td>omen</td>\n      <td>Haven</td>\n      <td>11</td>\n      <td>ODG KeepBest Gaming Haven 2023-04-25 03:30:00</td>\n    </tr>\n    <tr>\n      <th>9</th>\n      <td>0.77</td>\n      <td>169</td>\n      <td>12</td>\n      <td>18</td>\n      <td>12</td>\n      <td>-6</td>\n      <td>75%</td>\n      <td>118</td>\n      <td>9%</td>\n      <td>0</td>\n      <td>4</td>\n      <td>-4</td>\n      <td>x8</td>\n      <td>KBG</td>\n      <td>jett</td>\n      <td>Haven</td>\n      <td>11</td>\n      <td>ODG KeepBest Gaming Haven 2023-04-25 03:30:00</td>\n    </tr>\n  </tbody>\n</table>\n</div>"
     },
     "execution_count": 211,
     "metadata": {},
     "output_type": "execute_result"
    }
   ],
   "source": [
    "dataframes[1]"
   ],
   "metadata": {
    "collapsed": false,
    "pycharm": {
     "name": "#%%\n"
    }
   }
  }
 ],
 "metadata": {
  "kernelspec": {
   "display_name": "Python 3",
   "language": "python",
   "name": "python3"
  },
  "language_info": {
   "codemirror_mode": {
    "name": "ipython",
    "version": 2
   },
   "file_extension": ".py",
   "mimetype": "text/x-python",
   "name": "python",
   "nbconvert_exporter": "python",
   "pygments_lexer": "ipython2",
   "version": "2.7.6"
  }
 },
 "nbformat": 4,
 "nbformat_minor": 0
}