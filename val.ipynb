{
 "cells": [
  {
   "cell_type": "code",
   "execution_count": 240,
   "outputs": [],
   "source": [
    "from selenium import webdriver\n",
    "from selenium.webdriver.common.by import By\n",
    "from selenium.common.exceptions import NoSuchElementException\n",
    "import pandas as pd\n",
    "import sqlite3\n",
    "import time\n",
    "import random"
   ],
   "metadata": {
    "collapsed": false,
    "pycharm": {
     "name": "#%%\n"
    }
   }
  },
  {
   "cell_type": "markdown",
   "source": [
    "data\n",
    "map 1 = 0/1\n",
    "map 2 = 4/5\n",
    "map 3 = 6/7"
   ],
   "metadata": {
    "collapsed": false,
    "pycharm": {
     "name": "#%% md\n"
    }
   }
  },
  {
   "cell_type": "code",
   "execution_count": 225,
   "outputs": [],
   "source": [
    "def get_totals(cell):\n",
    "    return cell.split()[0]\n",
    "\n",
    "def get_totals_d(cell):\n",
    "    return cell.split()[1]\n",
    "\n",
    "def format_dataframe(dataframes, map_num):\n",
    "    \"\"\"\n",
    "    unduplicates data\n",
    "\n",
    "    :param dataframes: dataframes returned using the pandas read_html function on the page source\n",
    "    :param map_num: indexed starting at 1 for which map is being played in a series\n",
    "    :return: formatted df\n",
    "    \"\"\"\n",
    "\n",
    "    if map_num == 1:\n",
    "        formatting_df = pd.concat(dataframes[:2])\n",
    "    elif map_num == 2:\n",
    "        formatting_df = pd.concat([dataframes[4], dataframes[5]])\n",
    "\n",
    "\n",
    "    elif map_num == 3:\n",
    "        try:\n",
    "            formatting_df = pd.concat([dataframes[6], dataframes[7]])\n",
    "        except IndexError as x:\n",
    "            print('map 3 link not working')\n",
    "            return\n",
    "\n",
    "\n",
    "\n",
    "    formatting_df = formatting_df.reset_index()\n",
    "    formatting_df = formatting_df.drop(columns=['index', 'Unnamed: 1'])\n",
    "\n",
    "    formatting_df.iloc[:, 1:4] = formatting_df.iloc[:, 1:4].applymap(get_totals)\n",
    "    formatting_df.iloc[:, 5:] = formatting_df.iloc[:, 5:].applymap(get_totals)\n",
    "    formatting_df['PLAYER'] = formatting_df['Unnamed: 0'].apply(lambda x: x.split()[0])\n",
    "    formatting_df['TEAM'] = formatting_df['Unnamed: 0'].apply(lambda x: x.split()[1])\n",
    "\n",
    "    formatting_df = formatting_df.drop(columns=['Unnamed: 0'])\n",
    "\n",
    "    formatting_df.iloc[:, 3] = formatting_df.iloc[:, 3].apply(get_totals_d)\n",
    "\n",
    "    return formatting_df\n",
    "\n",
    "\n",
    "def get_match_results_data(source, link):\n",
    "    \"\"\"\n",
    "    :param source: pagesource\n",
    "    :param link: link for particular match results page\n",
    "    :return: multiple dataframes of match results, names for images/agent names\n",
    "    \"\"\"\n",
    "    dfs = pd.read_html(source)\n",
    "\n",
    "    img_elements = driver.find_elements(By.TAG_NAME, value='img')\n",
    "\n",
    "    # Loop through each image element and extract the \"alt\" text\n",
    "    alt_texts = []\n",
    "    for img_element in img_elements:\n",
    "        alt_text = img_element.get_attribute('alt')\n",
    "        if alt_text:\n",
    "            alt_texts.append(alt_text)\n",
    "\n",
    "\n",
    "    return dfs, alt_texts"
   ],
   "metadata": {
    "collapsed": false,
    "pycharm": {
     "name": "#%%\n"
    }
   }
  },
  {
   "cell_type": "markdown",
   "source": [
    "team information\n",
    "0/1 = map 1 = 0\n",
    "4/5 = map 2 = 1\n",
    "8/9 = map 3 = 2\n"
   ],
   "metadata": {
    "collapsed": false,
    "pycharm": {
     "name": "#%% md\n"
    }
   }
  },
  {
   "cell_type": "code",
   "execution_count": 226,
   "outputs": [],
   "source": [
    "def get_data(driver, map_num, map_name):\n",
    "    dfs = pd.read_html(driver.page_source)\n",
    "    df1 = format_dataframe(dfs, map_num)\n",
    "\n",
    "    #skip if no table is provided\n",
    "    if df1 is None:\n",
    "        return\n",
    "\n",
    "    #define element needed to be searched for team information depending on map number\n",
    "    if map_num == 1:\n",
    "        team_nums = [0,1]\n",
    "    elif map_num == 2:\n",
    "        team_nums = [4,5]\n",
    "    elif map_num == 3:\n",
    "        team_nums = [8,9]\n",
    "\n",
    "    #add agents\n",
    "    dfs, alt_texts = get_match_results_data(driver.page_source, links[0])\n",
    "    df1['AGENT'] = alt_texts[2:12]\n",
    "\n",
    "    # Get Time/Teams/Map for creating a primary key\n",
    "    time_of_map = driver.find_element(By.CLASS_NAME, value='moment-tz-convert')\n",
    "    time_of_map = time_of_map.get_attribute('data-utc-ts')\n",
    "\n",
    "    # map_name = driver.find_element(By.CLASS_NAME, value='map')\n",
    "    # print(map_name.text)\n",
    "    # map_name = map_name.text.split('\\n')[0]\n",
    "    df1['map'] = map_name\n",
    "\n",
    "\n",
    "    #get rounds won and team names\n",
    "    team_information = driver.find_elements(By.CLASS_NAME, value='vm-stats-game-header')[map_num-1]\n",
    "    right_team = team_information.find_element(By.CLASS_NAME, value='team.mod-right')\n",
    "    left_team = team_information.find_element(By.CLASS_NAME, value='team')\n",
    "\n",
    "    formatted_team_information = right_team.text.split('\\n')\n",
    "\n",
    "    away_team_information = formatted_team_information[0]\n",
    "    away_rounds_won = formatted_team_information[-1]\n",
    "    df1['rounds_won'] = 0\n",
    "    df1['rounds_won'].iloc[5:] = away_rounds_won\n",
    "\n",
    "    formatted_team_information_home = left_team.text.split('\\n')\n",
    "\n",
    "    home_team_information = formatted_team_information_home[-2]\n",
    "    home_rounds_won = formatted_team_information_home[0]\n",
    "    df1['rounds_won'].iloc[:5] = home_rounds_won\n",
    "\n",
    "    #create primary key\n",
    "    df1['match_id'] = home_team_information + ' ' + away_team_information + ' ' + map_name + ' ' + time_of_map\n",
    "\n",
    "    return df1"
   ],
   "metadata": {
    "collapsed": false,
    "pycharm": {
     "name": "#%%\n"
    }
   }
  },
  {
   "cell_type": "code",
   "execution_count": 235,
   "outputs": [],
   "source": [
    "# create a function to import pandas dataframes into the database\n",
    "def import_df_to_sqlite(df, table_name, conn):\n",
    "    df.to_sql(name=table_name, con=conn, if_exists='append', index=False)\n",
    "\n",
    "def dataframes_to_sql(dataframes, conn):\n",
    "    # import the dataframes into the database using the function\n",
    "    for dataframe in dataframes:\n",
    "        if dataframe is not None:\n",
    "            import_df_to_sqlite(dataframe, 'val', conn)"
   ],
   "metadata": {
    "collapsed": false,
    "pycharm": {
     "name": "#%%\n"
    }
   }
  },
  {
   "cell_type": "markdown",
   "source": [
    "### GET LINKS TO MATCH RESULTS"
   ],
   "metadata": {
    "collapsed": false,
    "pycharm": {
     "name": "#%% md\n"
    }
   }
  },
  {
   "cell_type": "code",
   "execution_count": 228,
   "outputs": [],
   "source": [
    "# create a connection to the SQLite database\n",
    "conn = sqlite3.connect('valorant.db')\n",
    "\n",
    "matches_path = 'https://www.vlr.gg/matches/results'\n",
    "chromedriver_path = r'C:\\Users\\work\\Sportsbetting\\Valorant\\chromedriver.exe'"
   ],
   "metadata": {
    "collapsed": false,
    "pycharm": {
     "name": "#%%\n"
    }
   }
  },
  {
   "cell_type": "code",
   "execution_count": 229,
   "outputs": [
    {
     "name": "stderr",
     "output_type": "stream",
     "text": [
      "C:\\Users\\work\\AppData\\Local\\Temp\\ipykernel_15692\\3305537043.py:1: DeprecationWarning: executable_path has been deprecated, please pass in a Service object\n",
      "  driver = webdriver.Chrome(executable_path=chromedriver_path)\n"
     ]
    }
   ],
   "source": [
    "driver = webdriver.Chrome(executable_path=chromedriver_path)\n",
    "# navigate to a website\n",
    "driver.get(matches_path)\n",
    "\n",
    "anchors = driver.find_elements(by=By.CSS_SELECTOR, value='a')\n",
    "\n",
    "links = []\n",
    "# Iterate over each anchor element and extract the href attribute\n",
    "for anchor in anchors:\n",
    "    href = anchor.get_attribute('href')\n",
    "    links.append(href)\n",
    "\n",
    "links = links[14:-10]"
   ],
   "metadata": {
    "collapsed": false,
    "pycharm": {
     "name": "#%%\n"
    }
   }
  },
  {
   "cell_type": "code",
   "execution_count": 231,
   "outputs": [
    {
     "data": {
      "text/plain": "'https://www.vlr.gg/188365/team-nkt-vs-crit-esports-challengers-league-thailand-split-2-w4'"
     },
     "execution_count": 231,
     "metadata": {},
     "output_type": "execute_result"
    }
   ],
   "source": [
    "links[0]"
   ],
   "metadata": {
    "collapsed": false,
    "pycharm": {
     "name": "#%%\n"
    }
   }
  },
  {
   "cell_type": "code",
   "execution_count": 232,
   "outputs": [],
   "source": [
    "driver.get(links[0])\n",
    "\n",
    "try:\n",
    "    more_than_one_map = driver.find_element(By.CLASS_NAME, value='vm-stats-gamesnav.noselect  ')\n",
    "except NoSuchElementException:\n",
    "    print('only one map')\n",
    "    more_than_one_map = None"
   ],
   "metadata": {
    "collapsed": false,
    "pycharm": {
     "name": "#%%\n"
    }
   }
  },
  {
   "cell_type": "code",
   "execution_count": 233,
   "outputs": [
    {
     "name": "stdout",
     "output_type": "stream",
     "text": [
      "1 Icebox 2 Split 3 Pearl\n"
     ]
    },
    {
     "name": "stderr",
     "output_type": "stream",
     "text": [
      "C:\\Users\\work\\AppData\\Local\\Temp\\ipykernel_15692\\1443927380.py:41: SettingWithCopyWarning: \n",
      "A value is trying to be set on a copy of a slice from a DataFrame\n",
      "\n",
      "See the caveats in the documentation: https://pandas.pydata.org/pandas-docs/stable/user_guide/indexing.html#returning-a-view-versus-a-copy\n",
      "  df1['rounds_won'].iloc[5:] = away_rounds_won\n"
     ]
    },
    {
     "name": "stdout",
     "output_type": "stream",
     "text": [
      "map 3 link not working\n"
     ]
    },
    {
     "name": "stderr",
     "output_type": "stream",
     "text": [
      "C:\\Users\\work\\AppData\\Local\\Temp\\ipykernel_15692\\1443927380.py:41: SettingWithCopyWarning: \n",
      "A value is trying to be set on a copy of a slice from a DataFrame\n",
      "\n",
      "See the caveats in the documentation: https://pandas.pydata.org/pandas-docs/stable/user_guide/indexing.html#returning-a-view-versus-a-copy\n",
      "  df1['rounds_won'].iloc[5:] = away_rounds_won\n"
     ]
    }
   ],
   "source": [
    "dataframes = []\n",
    "\n",
    "if more_than_one_map:\n",
    "    map_buttons_1 = driver.find_element(By.XPATH, '//*[@id=\"wrapper\"]/div[1]/div[3]/div[6]/div/div[1]/div[2]/div/div[2]')\n",
    "    map_buttons_2 = driver.find_element(By.XPATH, '//*[@id=\"wrapper\"]/div[1]/div[3]/div[6]/div/div[1]/div[2]/div/div[3]')\n",
    "    map_buttons_3 = driver.find_element(By.XPATH, '//*[@id=\"wrapper\"]/div[1]/div[3]/div[6]/div/div[1]/div[2]/div/div[4]')\n",
    "    print(map_buttons_1.text, map_buttons_2.text, map_buttons_3.text)\n",
    "    map_buttons = [map_buttons_1, map_buttons_2, map_buttons_3]\n",
    "\n",
    "    for map, button in enumerate(map_buttons):\n",
    "        if 'N/A' not in button.text:\n",
    "            button.click()\n",
    "            df = get_data(driver, map+1, map_buttons[map].text.split()[1])\n",
    "            dataframes.append(df)\n",
    "\n",
    "\n",
    "else:\n",
    "    df = get_data(driver, 1, driver.find_element(By.CLASS_NAME, value='map').text.split('\\n')[0])\n",
    "    dataframes.append(df)"
   ],
   "metadata": {
    "collapsed": false,
    "pycharm": {
     "name": "#%%\n"
    }
   }
  },
  {
   "cell_type": "markdown",
   "source": [
    "### Add dataframes into SQLite database"
   ],
   "metadata": {
    "collapsed": false,
    "pycharm": {
     "name": "#%% md\n"
    }
   }
  },
  {
   "cell_type": "code",
   "execution_count": 237,
   "outputs": [],
   "source": [
    "dataframes_to_sql(dataframes, conn)"
   ],
   "metadata": {
    "collapsed": false,
    "pycharm": {
     "name": "#%%\n"
    }
   }
  },
  {
   "cell_type": "code",
   "execution_count": 222,
   "outputs": [],
   "source": [
    "def get_data_and_upload(link):\n",
    "    driver.get(link)\n",
    "\n",
    "\n",
    "    try:\n",
    "        more_than_one_map = driver.find_element(By.CLASS_NAME, value='vm-stats-gamesnav.noselect  ')\n",
    "    except NoSuchElementException:\n",
    "        print('only one map')\n",
    "        more_than_one_map = None\n",
    "    dataframes = []\n",
    "\n",
    "    if more_than_one_map:\n",
    "        map_buttons_1 = driver.find_element(By.XPATH,\n",
    "                                            '//*[@id=\"wrapper\"]/div[1]/div[3]/div[6]/div/div[1]/div[2]/div/div[2]')\n",
    "        map_buttons_2 = driver.find_element(By.XPATH,\n",
    "                                            '//*[@id=\"wrapper\"]/div[1]/div[3]/div[6]/div/div[1]/div[2]/div/div[3]')\n",
    "        map_buttons_3 = driver.find_element(By.XPATH,\n",
    "                                            '//*[@id=\"wrapper\"]/div[1]/div[3]/div[6]/div/div[1]/div[2]/div/div[4]')\n",
    "        print(map_buttons_1.text, map_buttons_2.text, map_buttons_3.text)\n",
    "        map_buttons = [map_buttons_1, map_buttons_2, map_buttons_3]\n",
    "\n",
    "        for map, button in enumerate(map_buttons):\n",
    "            if 'N/A' not in button.text:\n",
    "                button.click()\n",
    "                df = get_data(driver, map + 1, map_buttons[map].text.split()[1])\n",
    "                dataframes.append(df)\n",
    "\n",
    "\n",
    "    else:\n",
    "        df = get_data(driver, 1, driver.find_element(By.CLASS_NAME, value='map').text.split('\\n')[0])\n",
    "        dataframes.append(df)\n",
    "    ### Add dataframes into SQLite database\n",
    "    dataframes_to_sql(dataframes, conn)"
   ],
   "metadata": {
    "collapsed": false,
    "pycharm": {
     "name": "#%%\n"
    }
   }
  },
  {
   "cell_type": "code",
   "execution_count": 241,
   "outputs": [
    {
     "name": "stdout",
     "output_type": "stream",
     "text": [
      "1 Icebox 2 Split 3 Pearl\n"
     ]
    },
    {
     "name": "stderr",
     "output_type": "stream",
     "text": [
      "C:\\Users\\work\\AppData\\Local\\Temp\\ipykernel_15692\\1443927380.py:41: SettingWithCopyWarning: \n",
      "A value is trying to be set on a copy of a slice from a DataFrame\n",
      "\n",
      "See the caveats in the documentation: https://pandas.pydata.org/pandas-docs/stable/user_guide/indexing.html#returning-a-view-versus-a-copy\n",
      "  df1['rounds_won'].iloc[5:] = away_rounds_won\n",
      "C:\\Users\\work\\AppData\\Local\\Temp\\ipykernel_15692\\1443927380.py:41: SettingWithCopyWarning: \n",
      "A value is trying to be set on a copy of a slice from a DataFrame\n",
      "\n",
      "See the caveats in the documentation: https://pandas.pydata.org/pandas-docs/stable/user_guide/indexing.html#returning-a-view-versus-a-copy\n",
      "  df1['rounds_won'].iloc[5:] = away_rounds_won\n"
     ]
    },
    {
     "name": "stdout",
     "output_type": "stream",
     "text": [
      "map 3 link not working\n",
      "1 Ascent 2 Lotus 3 Pearl\n"
     ]
    },
    {
     "name": "stderr",
     "output_type": "stream",
     "text": [
      "C:\\Users\\work\\AppData\\Local\\Temp\\ipykernel_15692\\1443927380.py:41: SettingWithCopyWarning: \n",
      "A value is trying to be set on a copy of a slice from a DataFrame\n",
      "\n",
      "See the caveats in the documentation: https://pandas.pydata.org/pandas-docs/stable/user_guide/indexing.html#returning-a-view-versus-a-copy\n",
      "  df1['rounds_won'].iloc[5:] = away_rounds_won\n",
      "C:\\Users\\work\\AppData\\Local\\Temp\\ipykernel_15692\\1443927380.py:41: SettingWithCopyWarning: \n",
      "A value is trying to be set on a copy of a slice from a DataFrame\n",
      "\n",
      "See the caveats in the documentation: https://pandas.pydata.org/pandas-docs/stable/user_guide/indexing.html#returning-a-view-versus-a-copy\n",
      "  df1['rounds_won'].iloc[5:] = away_rounds_won\n"
     ]
    },
    {
     "name": "stdout",
     "output_type": "stream",
     "text": [
      "map 3 link not working\n",
      "1 Icebox 2 Ascent 3 Lotus\n"
     ]
    },
    {
     "name": "stderr",
     "output_type": "stream",
     "text": [
      "C:\\Users\\work\\AppData\\Local\\Temp\\ipykernel_15692\\1443927380.py:41: SettingWithCopyWarning: \n",
      "A value is trying to be set on a copy of a slice from a DataFrame\n",
      "\n",
      "See the caveats in the documentation: https://pandas.pydata.org/pandas-docs/stable/user_guide/indexing.html#returning-a-view-versus-a-copy\n",
      "  df1['rounds_won'].iloc[5:] = away_rounds_won\n",
      "C:\\Users\\work\\AppData\\Local\\Temp\\ipykernel_15692\\1443927380.py:41: SettingWithCopyWarning: \n",
      "A value is trying to be set on a copy of a slice from a DataFrame\n",
      "\n",
      "See the caveats in the documentation: https://pandas.pydata.org/pandas-docs/stable/user_guide/indexing.html#returning-a-view-versus-a-copy\n",
      "  df1['rounds_won'].iloc[5:] = away_rounds_won\n",
      "C:\\Users\\work\\AppData\\Local\\Temp\\ipykernel_15692\\1443927380.py:41: SettingWithCopyWarning: \n",
      "A value is trying to be set on a copy of a slice from a DataFrame\n",
      "\n",
      "See the caveats in the documentation: https://pandas.pydata.org/pandas-docs/stable/user_guide/indexing.html#returning-a-view-versus-a-copy\n",
      "  df1['rounds_won'].iloc[5:] = away_rounds_won\n"
     ]
    },
    {
     "name": "stdout",
     "output_type": "stream",
     "text": [
      "1 Fracture 2 Split 3 Haven\n"
     ]
    },
    {
     "name": "stderr",
     "output_type": "stream",
     "text": [
      "C:\\Users\\work\\AppData\\Local\\Temp\\ipykernel_15692\\1443927380.py:41: SettingWithCopyWarning: \n",
      "A value is trying to be set on a copy of a slice from a DataFrame\n",
      "\n",
      "See the caveats in the documentation: https://pandas.pydata.org/pandas-docs/stable/user_guide/indexing.html#returning-a-view-versus-a-copy\n",
      "  df1['rounds_won'].iloc[5:] = away_rounds_won\n",
      "C:\\Users\\work\\AppData\\Local\\Temp\\ipykernel_15692\\1443927380.py:41: SettingWithCopyWarning: \n",
      "A value is trying to be set on a copy of a slice from a DataFrame\n",
      "\n",
      "See the caveats in the documentation: https://pandas.pydata.org/pandas-docs/stable/user_guide/indexing.html#returning-a-view-versus-a-copy\n",
      "  df1['rounds_won'].iloc[5:] = away_rounds_won\n",
      "C:\\Users\\work\\AppData\\Local\\Temp\\ipykernel_15692\\1443927380.py:41: SettingWithCopyWarning: \n",
      "A value is trying to be set on a copy of a slice from a DataFrame\n",
      "\n",
      "See the caveats in the documentation: https://pandas.pydata.org/pandas-docs/stable/user_guide/indexing.html#returning-a-view-versus-a-copy\n",
      "  df1['rounds_won'].iloc[5:] = away_rounds_won\n"
     ]
    },
    {
     "name": "stdout",
     "output_type": "stream",
     "text": [
      "1 Haven 2 Ascent 3 Split\n"
     ]
    },
    {
     "name": "stderr",
     "output_type": "stream",
     "text": [
      "C:\\Users\\work\\AppData\\Local\\Temp\\ipykernel_15692\\1443927380.py:41: SettingWithCopyWarning: \n",
      "A value is trying to be set on a copy of a slice from a DataFrame\n",
      "\n",
      "See the caveats in the documentation: https://pandas.pydata.org/pandas-docs/stable/user_guide/indexing.html#returning-a-view-versus-a-copy\n",
      "  df1['rounds_won'].iloc[5:] = away_rounds_won\n",
      "C:\\Users\\work\\AppData\\Local\\Temp\\ipykernel_15692\\1443927380.py:41: SettingWithCopyWarning: \n",
      "A value is trying to be set on a copy of a slice from a DataFrame\n",
      "\n",
      "See the caveats in the documentation: https://pandas.pydata.org/pandas-docs/stable/user_guide/indexing.html#returning-a-view-versus-a-copy\n",
      "  df1['rounds_won'].iloc[5:] = away_rounds_won\n"
     ]
    },
    {
     "name": "stdout",
     "output_type": "stream",
     "text": [
      "map 3 link not working\n",
      "1 Lotus 2 Split 3 Haven\n"
     ]
    },
    {
     "name": "stderr",
     "output_type": "stream",
     "text": [
      "C:\\Users\\work\\AppData\\Local\\Temp\\ipykernel_15692\\1443927380.py:41: SettingWithCopyWarning: \n",
      "A value is trying to be set on a copy of a slice from a DataFrame\n",
      "\n",
      "See the caveats in the documentation: https://pandas.pydata.org/pandas-docs/stable/user_guide/indexing.html#returning-a-view-versus-a-copy\n",
      "  df1['rounds_won'].iloc[5:] = away_rounds_won\n",
      "C:\\Users\\work\\AppData\\Local\\Temp\\ipykernel_15692\\1443927380.py:41: SettingWithCopyWarning: \n",
      "A value is trying to be set on a copy of a slice from a DataFrame\n",
      "\n",
      "See the caveats in the documentation: https://pandas.pydata.org/pandas-docs/stable/user_guide/indexing.html#returning-a-view-versus-a-copy\n",
      "  df1['rounds_won'].iloc[5:] = away_rounds_won\n"
     ]
    },
    {
     "name": "stdout",
     "output_type": "stream",
     "text": [
      "map 3 link not working\n",
      "1 Icebox 2 Pearl 3 Split\n"
     ]
    },
    {
     "name": "stderr",
     "output_type": "stream",
     "text": [
      "C:\\Users\\work\\AppData\\Local\\Temp\\ipykernel_15692\\1443927380.py:41: SettingWithCopyWarning: \n",
      "A value is trying to be set on a copy of a slice from a DataFrame\n",
      "\n",
      "See the caveats in the documentation: https://pandas.pydata.org/pandas-docs/stable/user_guide/indexing.html#returning-a-view-versus-a-copy\n",
      "  df1['rounds_won'].iloc[5:] = away_rounds_won\n",
      "C:\\Users\\work\\AppData\\Local\\Temp\\ipykernel_15692\\1443927380.py:41: SettingWithCopyWarning: \n",
      "A value is trying to be set on a copy of a slice from a DataFrame\n",
      "\n",
      "See the caveats in the documentation: https://pandas.pydata.org/pandas-docs/stable/user_guide/indexing.html#returning-a-view-versus-a-copy\n",
      "  df1['rounds_won'].iloc[5:] = away_rounds_won\n"
     ]
    },
    {
     "name": "stdout",
     "output_type": "stream",
     "text": [
      "map 3 link not working\n",
      "1 Haven 2 Fracture 3 Ascent\n"
     ]
    },
    {
     "name": "stderr",
     "output_type": "stream",
     "text": [
      "C:\\Users\\work\\AppData\\Local\\Temp\\ipykernel_15692\\1443927380.py:41: SettingWithCopyWarning: \n",
      "A value is trying to be set on a copy of a slice from a DataFrame\n",
      "\n",
      "See the caveats in the documentation: https://pandas.pydata.org/pandas-docs/stable/user_guide/indexing.html#returning-a-view-versus-a-copy\n",
      "  df1['rounds_won'].iloc[5:] = away_rounds_won\n",
      "C:\\Users\\work\\AppData\\Local\\Temp\\ipykernel_15692\\1443927380.py:41: SettingWithCopyWarning: \n",
      "A value is trying to be set on a copy of a slice from a DataFrame\n",
      "\n",
      "See the caveats in the documentation: https://pandas.pydata.org/pandas-docs/stable/user_guide/indexing.html#returning-a-view-versus-a-copy\n",
      "  df1['rounds_won'].iloc[5:] = away_rounds_won\n"
     ]
    },
    {
     "name": "stdout",
     "output_type": "stream",
     "text": [
      "map 3 link not working\n",
      "1 Fracture 2 Haven 3 N/A\n"
     ]
    },
    {
     "name": "stderr",
     "output_type": "stream",
     "text": [
      "C:\\Users\\work\\AppData\\Local\\Temp\\ipykernel_15692\\1443927380.py:41: SettingWithCopyWarning: \n",
      "A value is trying to be set on a copy of a slice from a DataFrame\n",
      "\n",
      "See the caveats in the documentation: https://pandas.pydata.org/pandas-docs/stable/user_guide/indexing.html#returning-a-view-versus-a-copy\n",
      "  df1['rounds_won'].iloc[5:] = away_rounds_won\n",
      "C:\\Users\\work\\AppData\\Local\\Temp\\ipykernel_15692\\1443927380.py:41: SettingWithCopyWarning: \n",
      "A value is trying to be set on a copy of a slice from a DataFrame\n",
      "\n",
      "See the caveats in the documentation: https://pandas.pydata.org/pandas-docs/stable/user_guide/indexing.html#returning-a-view-versus-a-copy\n",
      "  df1['rounds_won'].iloc[5:] = away_rounds_won\n"
     ]
    },
    {
     "name": "stdout",
     "output_type": "stream",
     "text": [
      "1 Lotus 2 Ascent 3 N/A\n"
     ]
    },
    {
     "name": "stderr",
     "output_type": "stream",
     "text": [
      "C:\\Users\\work\\AppData\\Local\\Temp\\ipykernel_15692\\1443927380.py:41: SettingWithCopyWarning: \n",
      "A value is trying to be set on a copy of a slice from a DataFrame\n",
      "\n",
      "See the caveats in the documentation: https://pandas.pydata.org/pandas-docs/stable/user_guide/indexing.html#returning-a-view-versus-a-copy\n",
      "  df1['rounds_won'].iloc[5:] = away_rounds_won\n",
      "C:\\Users\\work\\AppData\\Local\\Temp\\ipykernel_15692\\1443927380.py:41: SettingWithCopyWarning: \n",
      "A value is trying to be set on a copy of a slice from a DataFrame\n",
      "\n",
      "See the caveats in the documentation: https://pandas.pydata.org/pandas-docs/stable/user_guide/indexing.html#returning-a-view-versus-a-copy\n",
      "  df1['rounds_won'].iloc[5:] = away_rounds_won\n"
     ]
    },
    {
     "name": "stdout",
     "output_type": "stream",
     "text": [
      "1 Haven 2 Pearl 3 N/A\n"
     ]
    },
    {
     "name": "stderr",
     "output_type": "stream",
     "text": [
      "C:\\Users\\work\\AppData\\Local\\Temp\\ipykernel_15692\\1443927380.py:41: SettingWithCopyWarning: \n",
      "A value is trying to be set on a copy of a slice from a DataFrame\n",
      "\n",
      "See the caveats in the documentation: https://pandas.pydata.org/pandas-docs/stable/user_guide/indexing.html#returning-a-view-versus-a-copy\n",
      "  df1['rounds_won'].iloc[5:] = away_rounds_won\n",
      "C:\\Users\\work\\AppData\\Local\\Temp\\ipykernel_15692\\1443927380.py:41: SettingWithCopyWarning: \n",
      "A value is trying to be set on a copy of a slice from a DataFrame\n",
      "\n",
      "See the caveats in the documentation: https://pandas.pydata.org/pandas-docs/stable/user_guide/indexing.html#returning-a-view-versus-a-copy\n",
      "  df1['rounds_won'].iloc[5:] = away_rounds_won\n"
     ]
    },
    {
     "name": "stdout",
     "output_type": "stream",
     "text": [
      "1 Haven 2 Ascent 3 Pearl\n"
     ]
    },
    {
     "name": "stderr",
     "output_type": "stream",
     "text": [
      "C:\\Users\\work\\AppData\\Local\\Temp\\ipykernel_15692\\1443927380.py:41: SettingWithCopyWarning: \n",
      "A value is trying to be set on a copy of a slice from a DataFrame\n",
      "\n",
      "See the caveats in the documentation: https://pandas.pydata.org/pandas-docs/stable/user_guide/indexing.html#returning-a-view-versus-a-copy\n",
      "  df1['rounds_won'].iloc[5:] = away_rounds_won\n",
      "C:\\Users\\work\\AppData\\Local\\Temp\\ipykernel_15692\\1443927380.py:41: SettingWithCopyWarning: \n",
      "A value is trying to be set on a copy of a slice from a DataFrame\n",
      "\n",
      "See the caveats in the documentation: https://pandas.pydata.org/pandas-docs/stable/user_guide/indexing.html#returning-a-view-versus-a-copy\n",
      "  df1['rounds_won'].iloc[5:] = away_rounds_won\n"
     ]
    },
    {
     "name": "stdout",
     "output_type": "stream",
     "text": [
      "map 3 link not working\n",
      "1 Haven 2 Pearl 3 N/A\n"
     ]
    },
    {
     "name": "stderr",
     "output_type": "stream",
     "text": [
      "C:\\Users\\work\\AppData\\Local\\Temp\\ipykernel_15692\\1443927380.py:41: SettingWithCopyWarning: \n",
      "A value is trying to be set on a copy of a slice from a DataFrame\n",
      "\n",
      "See the caveats in the documentation: https://pandas.pydata.org/pandas-docs/stable/user_guide/indexing.html#returning-a-view-versus-a-copy\n",
      "  df1['rounds_won'].iloc[5:] = away_rounds_won\n",
      "C:\\Users\\work\\AppData\\Local\\Temp\\ipykernel_15692\\1443927380.py:41: SettingWithCopyWarning: \n",
      "A value is trying to be set on a copy of a slice from a DataFrame\n",
      "\n",
      "See the caveats in the documentation: https://pandas.pydata.org/pandas-docs/stable/user_guide/indexing.html#returning-a-view-versus-a-copy\n",
      "  df1['rounds_won'].iloc[5:] = away_rounds_won\n"
     ]
    },
    {
     "name": "stdout",
     "output_type": "stream",
     "text": [
      "1 Split 2 Haven 3 Lotus\n"
     ]
    },
    {
     "name": "stderr",
     "output_type": "stream",
     "text": [
      "C:\\Users\\work\\AppData\\Local\\Temp\\ipykernel_15692\\1443927380.py:41: SettingWithCopyWarning: \n",
      "A value is trying to be set on a copy of a slice from a DataFrame\n",
      "\n",
      "See the caveats in the documentation: https://pandas.pydata.org/pandas-docs/stable/user_guide/indexing.html#returning-a-view-versus-a-copy\n",
      "  df1['rounds_won'].iloc[5:] = away_rounds_won\n",
      "C:\\Users\\work\\AppData\\Local\\Temp\\ipykernel_15692\\1443927380.py:41: SettingWithCopyWarning: \n",
      "A value is trying to be set on a copy of a slice from a DataFrame\n",
      "\n",
      "See the caveats in the documentation: https://pandas.pydata.org/pandas-docs/stable/user_guide/indexing.html#returning-a-view-versus-a-copy\n",
      "  df1['rounds_won'].iloc[5:] = away_rounds_won\n",
      "C:\\Users\\work\\AppData\\Local\\Temp\\ipykernel_15692\\1443927380.py:41: SettingWithCopyWarning: \n",
      "A value is trying to be set on a copy of a slice from a DataFrame\n",
      "\n",
      "See the caveats in the documentation: https://pandas.pydata.org/pandas-docs/stable/user_guide/indexing.html#returning-a-view-versus-a-copy\n",
      "  df1['rounds_won'].iloc[5:] = away_rounds_won\n"
     ]
    },
    {
     "name": "stdout",
     "output_type": "stream",
     "text": [
      "1 Lotus 2 Haven 3 Ascent\n"
     ]
    },
    {
     "name": "stderr",
     "output_type": "stream",
     "text": [
      "C:\\Users\\work\\AppData\\Local\\Temp\\ipykernel_15692\\1443927380.py:41: SettingWithCopyWarning: \n",
      "A value is trying to be set on a copy of a slice from a DataFrame\n",
      "\n",
      "See the caveats in the documentation: https://pandas.pydata.org/pandas-docs/stable/user_guide/indexing.html#returning-a-view-versus-a-copy\n",
      "  df1['rounds_won'].iloc[5:] = away_rounds_won\n",
      "C:\\Users\\work\\AppData\\Local\\Temp\\ipykernel_15692\\1443927380.py:41: SettingWithCopyWarning: \n",
      "A value is trying to be set on a copy of a slice from a DataFrame\n",
      "\n",
      "See the caveats in the documentation: https://pandas.pydata.org/pandas-docs/stable/user_guide/indexing.html#returning-a-view-versus-a-copy\n",
      "  df1['rounds_won'].iloc[5:] = away_rounds_won\n",
      "C:\\Users\\work\\AppData\\Local\\Temp\\ipykernel_15692\\1443927380.py:41: SettingWithCopyWarning: \n",
      "A value is trying to be set on a copy of a slice from a DataFrame\n",
      "\n",
      "See the caveats in the documentation: https://pandas.pydata.org/pandas-docs/stable/user_guide/indexing.html#returning-a-view-versus-a-copy\n",
      "  df1['rounds_won'].iloc[5:] = away_rounds_won\n"
     ]
    },
    {
     "name": "stdout",
     "output_type": "stream",
     "text": [
      "1 Ascent 2 Split 3 Lotus\n"
     ]
    },
    {
     "name": "stderr",
     "output_type": "stream",
     "text": [
      "C:\\Users\\work\\AppData\\Local\\Temp\\ipykernel_15692\\1443927380.py:41: SettingWithCopyWarning: \n",
      "A value is trying to be set on a copy of a slice from a DataFrame\n",
      "\n",
      "See the caveats in the documentation: https://pandas.pydata.org/pandas-docs/stable/user_guide/indexing.html#returning-a-view-versus-a-copy\n",
      "  df1['rounds_won'].iloc[5:] = away_rounds_won\n",
      "C:\\Users\\work\\AppData\\Local\\Temp\\ipykernel_15692\\1443927380.py:41: SettingWithCopyWarning: \n",
      "A value is trying to be set on a copy of a slice from a DataFrame\n",
      "\n",
      "See the caveats in the documentation: https://pandas.pydata.org/pandas-docs/stable/user_guide/indexing.html#returning-a-view-versus-a-copy\n",
      "  df1['rounds_won'].iloc[5:] = away_rounds_won\n",
      "C:\\Users\\work\\AppData\\Local\\Temp\\ipykernel_15692\\1443927380.py:41: SettingWithCopyWarning: \n",
      "A value is trying to be set on a copy of a slice from a DataFrame\n",
      "\n",
      "See the caveats in the documentation: https://pandas.pydata.org/pandas-docs/stable/user_guide/indexing.html#returning-a-view-versus-a-copy\n",
      "  df1['rounds_won'].iloc[5:] = away_rounds_won\n"
     ]
    },
    {
     "name": "stdout",
     "output_type": "stream",
     "text": [
      "1 Ascent 2 Fracture 3 Pearl\n"
     ]
    },
    {
     "name": "stderr",
     "output_type": "stream",
     "text": [
      "C:\\Users\\work\\AppData\\Local\\Temp\\ipykernel_15692\\1443927380.py:41: SettingWithCopyWarning: \n",
      "A value is trying to be set on a copy of a slice from a DataFrame\n",
      "\n",
      "See the caveats in the documentation: https://pandas.pydata.org/pandas-docs/stable/user_guide/indexing.html#returning-a-view-versus-a-copy\n",
      "  df1['rounds_won'].iloc[5:] = away_rounds_won\n",
      "C:\\Users\\work\\AppData\\Local\\Temp\\ipykernel_15692\\1443927380.py:41: SettingWithCopyWarning: \n",
      "A value is trying to be set on a copy of a slice from a DataFrame\n",
      "\n",
      "See the caveats in the documentation: https://pandas.pydata.org/pandas-docs/stable/user_guide/indexing.html#returning-a-view-versus-a-copy\n",
      "  df1['rounds_won'].iloc[5:] = away_rounds_won\n"
     ]
    },
    {
     "name": "stdout",
     "output_type": "stream",
     "text": [
      "map 3 link not working\n",
      "only one map\n"
     ]
    },
    {
     "name": "stderr",
     "output_type": "stream",
     "text": [
      "C:\\Users\\work\\AppData\\Local\\Temp\\ipykernel_15692\\1443927380.py:41: SettingWithCopyWarning: \n",
      "A value is trying to be set on a copy of a slice from a DataFrame\n",
      "\n",
      "See the caveats in the documentation: https://pandas.pydata.org/pandas-docs/stable/user_guide/indexing.html#returning-a-view-versus-a-copy\n",
      "  df1['rounds_won'].iloc[5:] = away_rounds_won\n"
     ]
    },
    {
     "name": "stdout",
     "output_type": "stream",
     "text": [
      "1 Haven 2 Lotus 3 N/A\n"
     ]
    },
    {
     "name": "stderr",
     "output_type": "stream",
     "text": [
      "C:\\Users\\work\\AppData\\Local\\Temp\\ipykernel_15692\\1443927380.py:41: SettingWithCopyWarning: \n",
      "A value is trying to be set on a copy of a slice from a DataFrame\n",
      "\n",
      "See the caveats in the documentation: https://pandas.pydata.org/pandas-docs/stable/user_guide/indexing.html#returning-a-view-versus-a-copy\n",
      "  df1['rounds_won'].iloc[5:] = away_rounds_won\n",
      "C:\\Users\\work\\AppData\\Local\\Temp\\ipykernel_15692\\1443927380.py:41: SettingWithCopyWarning: \n",
      "A value is trying to be set on a copy of a slice from a DataFrame\n",
      "\n",
      "See the caveats in the documentation: https://pandas.pydata.org/pandas-docs/stable/user_guide/indexing.html#returning-a-view-versus-a-copy\n",
      "  df1['rounds_won'].iloc[5:] = away_rounds_won\n"
     ]
    },
    {
     "name": "stdout",
     "output_type": "stream",
     "text": [
      "only one map\n"
     ]
    },
    {
     "name": "stderr",
     "output_type": "stream",
     "text": [
      "C:\\Users\\work\\AppData\\Local\\Temp\\ipykernel_15692\\1443927380.py:41: SettingWithCopyWarning: \n",
      "A value is trying to be set on a copy of a slice from a DataFrame\n",
      "\n",
      "See the caveats in the documentation: https://pandas.pydata.org/pandas-docs/stable/user_guide/indexing.html#returning-a-view-versus-a-copy\n",
      "  df1['rounds_won'].iloc[5:] = away_rounds_won\n"
     ]
    },
    {
     "name": "stdout",
     "output_type": "stream",
     "text": [
      "only one map\n"
     ]
    },
    {
     "name": "stderr",
     "output_type": "stream",
     "text": [
      "C:\\Users\\work\\AppData\\Local\\Temp\\ipykernel_15692\\1443927380.py:41: SettingWithCopyWarning: \n",
      "A value is trying to be set on a copy of a slice from a DataFrame\n",
      "\n",
      "See the caveats in the documentation: https://pandas.pydata.org/pandas-docs/stable/user_guide/indexing.html#returning-a-view-versus-a-copy\n",
      "  df1['rounds_won'].iloc[5:] = away_rounds_won\n"
     ]
    },
    {
     "name": "stdout",
     "output_type": "stream",
     "text": [
      "1 Pearl 2 Fracture 3 N/A\n"
     ]
    },
    {
     "name": "stderr",
     "output_type": "stream",
     "text": [
      "C:\\Users\\work\\AppData\\Local\\Temp\\ipykernel_15692\\1443927380.py:41: SettingWithCopyWarning: \n",
      "A value is trying to be set on a copy of a slice from a DataFrame\n",
      "\n",
      "See the caveats in the documentation: https://pandas.pydata.org/pandas-docs/stable/user_guide/indexing.html#returning-a-view-versus-a-copy\n",
      "  df1['rounds_won'].iloc[5:] = away_rounds_won\n",
      "C:\\Users\\work\\AppData\\Local\\Temp\\ipykernel_15692\\1443927380.py:41: SettingWithCopyWarning: \n",
      "A value is trying to be set on a copy of a slice from a DataFrame\n",
      "\n",
      "See the caveats in the documentation: https://pandas.pydata.org/pandas-docs/stable/user_guide/indexing.html#returning-a-view-versus-a-copy\n",
      "  df1['rounds_won'].iloc[5:] = away_rounds_won\n"
     ]
    },
    {
     "name": "stdout",
     "output_type": "stream",
     "text": [
      "1 Split 2 Ascent 3 N/A\n"
     ]
    },
    {
     "name": "stderr",
     "output_type": "stream",
     "text": [
      "C:\\Users\\work\\AppData\\Local\\Temp\\ipykernel_15692\\1443927380.py:41: SettingWithCopyWarning: \n",
      "A value is trying to be set on a copy of a slice from a DataFrame\n",
      "\n",
      "See the caveats in the documentation: https://pandas.pydata.org/pandas-docs/stable/user_guide/indexing.html#returning-a-view-versus-a-copy\n",
      "  df1['rounds_won'].iloc[5:] = away_rounds_won\n",
      "C:\\Users\\work\\AppData\\Local\\Temp\\ipykernel_15692\\1443927380.py:41: SettingWithCopyWarning: \n",
      "A value is trying to be set on a copy of a slice from a DataFrame\n",
      "\n",
      "See the caveats in the documentation: https://pandas.pydata.org/pandas-docs/stable/user_guide/indexing.html#returning-a-view-versus-a-copy\n",
      "  df1['rounds_won'].iloc[5:] = away_rounds_won\n"
     ]
    },
    {
     "name": "stdout",
     "output_type": "stream",
     "text": [
      "1 Ascent 2 Haven 3 N/A\n"
     ]
    },
    {
     "name": "stderr",
     "output_type": "stream",
     "text": [
      "C:\\Users\\work\\AppData\\Local\\Temp\\ipykernel_15692\\1443927380.py:41: SettingWithCopyWarning: \n",
      "A value is trying to be set on a copy of a slice from a DataFrame\n",
      "\n",
      "See the caveats in the documentation: https://pandas.pydata.org/pandas-docs/stable/user_guide/indexing.html#returning-a-view-versus-a-copy\n",
      "  df1['rounds_won'].iloc[5:] = away_rounds_won\n",
      "C:\\Users\\work\\AppData\\Local\\Temp\\ipykernel_15692\\1443927380.py:41: SettingWithCopyWarning: \n",
      "A value is trying to be set on a copy of a slice from a DataFrame\n",
      "\n",
      "See the caveats in the documentation: https://pandas.pydata.org/pandas-docs/stable/user_guide/indexing.html#returning-a-view-versus-a-copy\n",
      "  df1['rounds_won'].iloc[5:] = away_rounds_won\n"
     ]
    },
    {
     "name": "stdout",
     "output_type": "stream",
     "text": [
      "1 Bind 2 Pearl 3 Lotus\n"
     ]
    },
    {
     "name": "stderr",
     "output_type": "stream",
     "text": [
      "C:\\Users\\work\\AppData\\Local\\Temp\\ipykernel_15692\\1443927380.py:41: SettingWithCopyWarning: \n",
      "A value is trying to be set on a copy of a slice from a DataFrame\n",
      "\n",
      "See the caveats in the documentation: https://pandas.pydata.org/pandas-docs/stable/user_guide/indexing.html#returning-a-view-versus-a-copy\n",
      "  df1['rounds_won'].iloc[5:] = away_rounds_won\n",
      "C:\\Users\\work\\AppData\\Local\\Temp\\ipykernel_15692\\1443927380.py:41: SettingWithCopyWarning: \n",
      "A value is trying to be set on a copy of a slice from a DataFrame\n",
      "\n",
      "See the caveats in the documentation: https://pandas.pydata.org/pandas-docs/stable/user_guide/indexing.html#returning-a-view-versus-a-copy\n",
      "  df1['rounds_won'].iloc[5:] = away_rounds_won\n",
      "C:\\Users\\work\\AppData\\Local\\Temp\\ipykernel_15692\\1443927380.py:41: SettingWithCopyWarning: \n",
      "A value is trying to be set on a copy of a slice from a DataFrame\n",
      "\n",
      "See the caveats in the documentation: https://pandas.pydata.org/pandas-docs/stable/user_guide/indexing.html#returning-a-view-versus-a-copy\n",
      "  df1['rounds_won'].iloc[5:] = away_rounds_won\n"
     ]
    },
    {
     "name": "stdout",
     "output_type": "stream",
     "text": [
      "1 Ascent 2 Haven 3 Split\n"
     ]
    },
    {
     "name": "stderr",
     "output_type": "stream",
     "text": [
      "C:\\Users\\work\\AppData\\Local\\Temp\\ipykernel_15692\\1443927380.py:41: SettingWithCopyWarning: \n",
      "A value is trying to be set on a copy of a slice from a DataFrame\n",
      "\n",
      "See the caveats in the documentation: https://pandas.pydata.org/pandas-docs/stable/user_guide/indexing.html#returning-a-view-versus-a-copy\n",
      "  df1['rounds_won'].iloc[5:] = away_rounds_won\n",
      "C:\\Users\\work\\AppData\\Local\\Temp\\ipykernel_15692\\1443927380.py:41: SettingWithCopyWarning: \n",
      "A value is trying to be set on a copy of a slice from a DataFrame\n",
      "\n",
      "See the caveats in the documentation: https://pandas.pydata.org/pandas-docs/stable/user_guide/indexing.html#returning-a-view-versus-a-copy\n",
      "  df1['rounds_won'].iloc[5:] = away_rounds_won\n",
      "C:\\Users\\work\\AppData\\Local\\Temp\\ipykernel_15692\\1443927380.py:41: SettingWithCopyWarning: \n",
      "A value is trying to be set on a copy of a slice from a DataFrame\n",
      "\n",
      "See the caveats in the documentation: https://pandas.pydata.org/pandas-docs/stable/user_guide/indexing.html#returning-a-view-versus-a-copy\n",
      "  df1['rounds_won'].iloc[5:] = away_rounds_won\n"
     ]
    },
    {
     "name": "stdout",
     "output_type": "stream",
     "text": [
      "only one map\n"
     ]
    },
    {
     "name": "stderr",
     "output_type": "stream",
     "text": [
      "C:\\Users\\work\\AppData\\Local\\Temp\\ipykernel_15692\\1443927380.py:41: SettingWithCopyWarning: \n",
      "A value is trying to be set on a copy of a slice from a DataFrame\n",
      "\n",
      "See the caveats in the documentation: https://pandas.pydata.org/pandas-docs/stable/user_guide/indexing.html#returning-a-view-versus-a-copy\n",
      "  df1['rounds_won'].iloc[5:] = away_rounds_won\n"
     ]
    },
    {
     "name": "stdout",
     "output_type": "stream",
     "text": [
      "only one map\n"
     ]
    },
    {
     "name": "stderr",
     "output_type": "stream",
     "text": [
      "C:\\Users\\work\\AppData\\Local\\Temp\\ipykernel_15692\\1443927380.py:41: SettingWithCopyWarning: \n",
      "A value is trying to be set on a copy of a slice from a DataFrame\n",
      "\n",
      "See the caveats in the documentation: https://pandas.pydata.org/pandas-docs/stable/user_guide/indexing.html#returning-a-view-versus-a-copy\n",
      "  df1['rounds_won'].iloc[5:] = away_rounds_won\n"
     ]
    },
    {
     "name": "stdout",
     "output_type": "stream",
     "text": [
      "1 Split 2 Ascent 3 Fracture\n"
     ]
    },
    {
     "name": "stderr",
     "output_type": "stream",
     "text": [
      "C:\\Users\\work\\AppData\\Local\\Temp\\ipykernel_15692\\1443927380.py:41: SettingWithCopyWarning: \n",
      "A value is trying to be set on a copy of a slice from a DataFrame\n",
      "\n",
      "See the caveats in the documentation: https://pandas.pydata.org/pandas-docs/stable/user_guide/indexing.html#returning-a-view-versus-a-copy\n",
      "  df1['rounds_won'].iloc[5:] = away_rounds_won\n",
      "C:\\Users\\work\\AppData\\Local\\Temp\\ipykernel_15692\\1443927380.py:41: SettingWithCopyWarning: \n",
      "A value is trying to be set on a copy of a slice from a DataFrame\n",
      "\n",
      "See the caveats in the documentation: https://pandas.pydata.org/pandas-docs/stable/user_guide/indexing.html#returning-a-view-versus-a-copy\n",
      "  df1['rounds_won'].iloc[5:] = away_rounds_won\n",
      "C:\\Users\\work\\AppData\\Local\\Temp\\ipykernel_15692\\1443927380.py:41: SettingWithCopyWarning: \n",
      "A value is trying to be set on a copy of a slice from a DataFrame\n",
      "\n",
      "See the caveats in the documentation: https://pandas.pydata.org/pandas-docs/stable/user_guide/indexing.html#returning-a-view-versus-a-copy\n",
      "  df1['rounds_won'].iloc[5:] = away_rounds_won\n"
     ]
    },
    {
     "name": "stdout",
     "output_type": "stream",
     "text": [
      "1 Ascent 2 Haven 3 N/A\n"
     ]
    },
    {
     "name": "stderr",
     "output_type": "stream",
     "text": [
      "C:\\Users\\work\\AppData\\Local\\Temp\\ipykernel_15692\\1443927380.py:41: SettingWithCopyWarning: \n",
      "A value is trying to be set on a copy of a slice from a DataFrame\n",
      "\n",
      "See the caveats in the documentation: https://pandas.pydata.org/pandas-docs/stable/user_guide/indexing.html#returning-a-view-versus-a-copy\n",
      "  df1['rounds_won'].iloc[5:] = away_rounds_won\n",
      "C:\\Users\\work\\AppData\\Local\\Temp\\ipykernel_15692\\1443927380.py:41: SettingWithCopyWarning: \n",
      "A value is trying to be set on a copy of a slice from a DataFrame\n",
      "\n",
      "See the caveats in the documentation: https://pandas.pydata.org/pandas-docs/stable/user_guide/indexing.html#returning-a-view-versus-a-copy\n",
      "  df1['rounds_won'].iloc[5:] = away_rounds_won\n"
     ]
    },
    {
     "name": "stdout",
     "output_type": "stream",
     "text": [
      "1 Lotus 2 Haven 3 Pearl\n"
     ]
    },
    {
     "name": "stderr",
     "output_type": "stream",
     "text": [
      "C:\\Users\\work\\AppData\\Local\\Temp\\ipykernel_15692\\1443927380.py:41: SettingWithCopyWarning: \n",
      "A value is trying to be set on a copy of a slice from a DataFrame\n",
      "\n",
      "See the caveats in the documentation: https://pandas.pydata.org/pandas-docs/stable/user_guide/indexing.html#returning-a-view-versus-a-copy\n",
      "  df1['rounds_won'].iloc[5:] = away_rounds_won\n",
      "C:\\Users\\work\\AppData\\Local\\Temp\\ipykernel_15692\\1443927380.py:41: SettingWithCopyWarning: \n",
      "A value is trying to be set on a copy of a slice from a DataFrame\n",
      "\n",
      "See the caveats in the documentation: https://pandas.pydata.org/pandas-docs/stable/user_guide/indexing.html#returning-a-view-versus-a-copy\n",
      "  df1['rounds_won'].iloc[5:] = away_rounds_won\n"
     ]
    },
    {
     "name": "stdout",
     "output_type": "stream",
     "text": [
      "map 3 link not working\n",
      "1 Haven 2 Ascent 3 N/A\n"
     ]
    },
    {
     "name": "stderr",
     "output_type": "stream",
     "text": [
      "C:\\Users\\work\\AppData\\Local\\Temp\\ipykernel_15692\\1443927380.py:41: SettingWithCopyWarning: \n",
      "A value is trying to be set on a copy of a slice from a DataFrame\n",
      "\n",
      "See the caveats in the documentation: https://pandas.pydata.org/pandas-docs/stable/user_guide/indexing.html#returning-a-view-versus-a-copy\n",
      "  df1['rounds_won'].iloc[5:] = away_rounds_won\n",
      "C:\\Users\\work\\AppData\\Local\\Temp\\ipykernel_15692\\1443927380.py:41: SettingWithCopyWarning: \n",
      "A value is trying to be set on a copy of a slice from a DataFrame\n",
      "\n",
      "See the caveats in the documentation: https://pandas.pydata.org/pandas-docs/stable/user_guide/indexing.html#returning-a-view-versus-a-copy\n",
      "  df1['rounds_won'].iloc[5:] = away_rounds_won\n"
     ]
    },
    {
     "name": "stdout",
     "output_type": "stream",
     "text": [
      "1 Split 2 Haven 3 Pearl\n"
     ]
    },
    {
     "name": "stderr",
     "output_type": "stream",
     "text": [
      "C:\\Users\\work\\AppData\\Local\\Temp\\ipykernel_15692\\1443927380.py:41: SettingWithCopyWarning: \n",
      "A value is trying to be set on a copy of a slice from a DataFrame\n",
      "\n",
      "See the caveats in the documentation: https://pandas.pydata.org/pandas-docs/stable/user_guide/indexing.html#returning-a-view-versus-a-copy\n",
      "  df1['rounds_won'].iloc[5:] = away_rounds_won\n",
      "C:\\Users\\work\\AppData\\Local\\Temp\\ipykernel_15692\\1443927380.py:41: SettingWithCopyWarning: \n",
      "A value is trying to be set on a copy of a slice from a DataFrame\n",
      "\n",
      "See the caveats in the documentation: https://pandas.pydata.org/pandas-docs/stable/user_guide/indexing.html#returning-a-view-versus-a-copy\n",
      "  df1['rounds_won'].iloc[5:] = away_rounds_won\n",
      "C:\\Users\\work\\AppData\\Local\\Temp\\ipykernel_15692\\1443927380.py:41: SettingWithCopyWarning: \n",
      "A value is trying to be set on a copy of a slice from a DataFrame\n",
      "\n",
      "See the caveats in the documentation: https://pandas.pydata.org/pandas-docs/stable/user_guide/indexing.html#returning-a-view-versus-a-copy\n",
      "  df1['rounds_won'].iloc[5:] = away_rounds_won\n"
     ]
    },
    {
     "name": "stdout",
     "output_type": "stream",
     "text": [
      "only one map\n"
     ]
    },
    {
     "name": "stderr",
     "output_type": "stream",
     "text": [
      "C:\\Users\\work\\AppData\\Local\\Temp\\ipykernel_15692\\1443927380.py:41: SettingWithCopyWarning: \n",
      "A value is trying to be set on a copy of a slice from a DataFrame\n",
      "\n",
      "See the caveats in the documentation: https://pandas.pydata.org/pandas-docs/stable/user_guide/indexing.html#returning-a-view-versus-a-copy\n",
      "  df1['rounds_won'].iloc[5:] = away_rounds_won\n"
     ]
    },
    {
     "name": "stdout",
     "output_type": "stream",
     "text": [
      "1 Icebox 2 Haven 3 Lotus\n"
     ]
    },
    {
     "name": "stderr",
     "output_type": "stream",
     "text": [
      "C:\\Users\\work\\AppData\\Local\\Temp\\ipykernel_15692\\1443927380.py:41: SettingWithCopyWarning: \n",
      "A value is trying to be set on a copy of a slice from a DataFrame\n",
      "\n",
      "See the caveats in the documentation: https://pandas.pydata.org/pandas-docs/stable/user_guide/indexing.html#returning-a-view-versus-a-copy\n",
      "  df1['rounds_won'].iloc[5:] = away_rounds_won\n",
      "C:\\Users\\work\\AppData\\Local\\Temp\\ipykernel_15692\\1443927380.py:41: SettingWithCopyWarning: \n",
      "A value is trying to be set on a copy of a slice from a DataFrame\n",
      "\n",
      "See the caveats in the documentation: https://pandas.pydata.org/pandas-docs/stable/user_guide/indexing.html#returning-a-view-versus-a-copy\n",
      "  df1['rounds_won'].iloc[5:] = away_rounds_won\n",
      "C:\\Users\\work\\AppData\\Local\\Temp\\ipykernel_15692\\1443927380.py:41: SettingWithCopyWarning: \n",
      "A value is trying to be set on a copy of a slice from a DataFrame\n",
      "\n",
      "See the caveats in the documentation: https://pandas.pydata.org/pandas-docs/stable/user_guide/indexing.html#returning-a-view-versus-a-copy\n",
      "  df1['rounds_won'].iloc[5:] = away_rounds_won\n"
     ]
    },
    {
     "name": "stdout",
     "output_type": "stream",
     "text": [
      "1 Lotus 2 Icebox 3 Ascent\n"
     ]
    },
    {
     "name": "stderr",
     "output_type": "stream",
     "text": [
      "C:\\Users\\work\\AppData\\Local\\Temp\\ipykernel_15692\\1443927380.py:41: SettingWithCopyWarning: \n",
      "A value is trying to be set on a copy of a slice from a DataFrame\n",
      "\n",
      "See the caveats in the documentation: https://pandas.pydata.org/pandas-docs/stable/user_guide/indexing.html#returning-a-view-versus-a-copy\n",
      "  df1['rounds_won'].iloc[5:] = away_rounds_won\n",
      "C:\\Users\\work\\AppData\\Local\\Temp\\ipykernel_15692\\1443927380.py:41: SettingWithCopyWarning: \n",
      "A value is trying to be set on a copy of a slice from a DataFrame\n",
      "\n",
      "See the caveats in the documentation: https://pandas.pydata.org/pandas-docs/stable/user_guide/indexing.html#returning-a-view-versus-a-copy\n",
      "  df1['rounds_won'].iloc[5:] = away_rounds_won\n"
     ]
    },
    {
     "name": "stdout",
     "output_type": "stream",
     "text": [
      "map 3 link not working\n",
      "1 Haven 2 Ascent 3 Lotus\n"
     ]
    },
    {
     "name": "stderr",
     "output_type": "stream",
     "text": [
      "C:\\Users\\work\\AppData\\Local\\Temp\\ipykernel_15692\\1443927380.py:41: SettingWithCopyWarning: \n",
      "A value is trying to be set on a copy of a slice from a DataFrame\n",
      "\n",
      "See the caveats in the documentation: https://pandas.pydata.org/pandas-docs/stable/user_guide/indexing.html#returning-a-view-versus-a-copy\n",
      "  df1['rounds_won'].iloc[5:] = away_rounds_won\n",
      "C:\\Users\\work\\AppData\\Local\\Temp\\ipykernel_15692\\1443927380.py:41: SettingWithCopyWarning: \n",
      "A value is trying to be set on a copy of a slice from a DataFrame\n",
      "\n",
      "See the caveats in the documentation: https://pandas.pydata.org/pandas-docs/stable/user_guide/indexing.html#returning-a-view-versus-a-copy\n",
      "  df1['rounds_won'].iloc[5:] = away_rounds_won\n",
      "C:\\Users\\work\\AppData\\Local\\Temp\\ipykernel_15692\\1443927380.py:41: SettingWithCopyWarning: \n",
      "A value is trying to be set on a copy of a slice from a DataFrame\n",
      "\n",
      "See the caveats in the documentation: https://pandas.pydata.org/pandas-docs/stable/user_guide/indexing.html#returning-a-view-versus-a-copy\n",
      "  df1['rounds_won'].iloc[5:] = away_rounds_won\n"
     ]
    },
    {
     "name": "stdout",
     "output_type": "stream",
     "text": [
      "1 Split 2 Ascent 3 Haven\n"
     ]
    },
    {
     "name": "stderr",
     "output_type": "stream",
     "text": [
      "C:\\Users\\work\\AppData\\Local\\Temp\\ipykernel_15692\\1443927380.py:41: SettingWithCopyWarning: \n",
      "A value is trying to be set on a copy of a slice from a DataFrame\n",
      "\n",
      "See the caveats in the documentation: https://pandas.pydata.org/pandas-docs/stable/user_guide/indexing.html#returning-a-view-versus-a-copy\n",
      "  df1['rounds_won'].iloc[5:] = away_rounds_won\n",
      "C:\\Users\\work\\AppData\\Local\\Temp\\ipykernel_15692\\1443927380.py:41: SettingWithCopyWarning: \n",
      "A value is trying to be set on a copy of a slice from a DataFrame\n",
      "\n",
      "See the caveats in the documentation: https://pandas.pydata.org/pandas-docs/stable/user_guide/indexing.html#returning-a-view-versus-a-copy\n",
      "  df1['rounds_won'].iloc[5:] = away_rounds_won\n",
      "C:\\Users\\work\\AppData\\Local\\Temp\\ipykernel_15692\\1443927380.py:41: SettingWithCopyWarning: \n",
      "A value is trying to be set on a copy of a slice from a DataFrame\n",
      "\n",
      "See the caveats in the documentation: https://pandas.pydata.org/pandas-docs/stable/user_guide/indexing.html#returning-a-view-versus-a-copy\n",
      "  df1['rounds_won'].iloc[5:] = away_rounds_won\n"
     ]
    },
    {
     "name": "stdout",
     "output_type": "stream",
     "text": [
      "1 Split 2 Ascent 3 N/A\n"
     ]
    },
    {
     "name": "stderr",
     "output_type": "stream",
     "text": [
      "C:\\Users\\work\\AppData\\Local\\Temp\\ipykernel_15692\\1443927380.py:41: SettingWithCopyWarning: \n",
      "A value is trying to be set on a copy of a slice from a DataFrame\n",
      "\n",
      "See the caveats in the documentation: https://pandas.pydata.org/pandas-docs/stable/user_guide/indexing.html#returning-a-view-versus-a-copy\n",
      "  df1['rounds_won'].iloc[5:] = away_rounds_won\n",
      "C:\\Users\\work\\AppData\\Local\\Temp\\ipykernel_15692\\1443927380.py:41: SettingWithCopyWarning: \n",
      "A value is trying to be set on a copy of a slice from a DataFrame\n",
      "\n",
      "See the caveats in the documentation: https://pandas.pydata.org/pandas-docs/stable/user_guide/indexing.html#returning-a-view-versus-a-copy\n",
      "  df1['rounds_won'].iloc[5:] = away_rounds_won\n"
     ]
    },
    {
     "name": "stdout",
     "output_type": "stream",
     "text": [
      "1 Pearl 2 Split 3 Fracture\n"
     ]
    },
    {
     "name": "stderr",
     "output_type": "stream",
     "text": [
      "C:\\Users\\work\\AppData\\Local\\Temp\\ipykernel_15692\\1443927380.py:41: SettingWithCopyWarning: \n",
      "A value is trying to be set on a copy of a slice from a DataFrame\n",
      "\n",
      "See the caveats in the documentation: https://pandas.pydata.org/pandas-docs/stable/user_guide/indexing.html#returning-a-view-versus-a-copy\n",
      "  df1['rounds_won'].iloc[5:] = away_rounds_won\n",
      "C:\\Users\\work\\AppData\\Local\\Temp\\ipykernel_15692\\1443927380.py:41: SettingWithCopyWarning: \n",
      "A value is trying to be set on a copy of a slice from a DataFrame\n",
      "\n",
      "See the caveats in the documentation: https://pandas.pydata.org/pandas-docs/stable/user_guide/indexing.html#returning-a-view-versus-a-copy\n",
      "  df1['rounds_won'].iloc[5:] = away_rounds_won\n",
      "C:\\Users\\work\\AppData\\Local\\Temp\\ipykernel_15692\\1443927380.py:41: SettingWithCopyWarning: \n",
      "A value is trying to be set on a copy of a slice from a DataFrame\n",
      "\n",
      "See the caveats in the documentation: https://pandas.pydata.org/pandas-docs/stable/user_guide/indexing.html#returning-a-view-versus-a-copy\n",
      "  df1['rounds_won'].iloc[5:] = away_rounds_won\n"
     ]
    },
    {
     "name": "stdout",
     "output_type": "stream",
     "text": [
      "only one map\n"
     ]
    },
    {
     "name": "stderr",
     "output_type": "stream",
     "text": [
      "C:\\Users\\work\\AppData\\Local\\Temp\\ipykernel_15692\\1443927380.py:41: SettingWithCopyWarning: \n",
      "A value is trying to be set on a copy of a slice from a DataFrame\n",
      "\n",
      "See the caveats in the documentation: https://pandas.pydata.org/pandas-docs/stable/user_guide/indexing.html#returning-a-view-versus-a-copy\n",
      "  df1['rounds_won'].iloc[5:] = away_rounds_won\n"
     ]
    },
    {
     "name": "stdout",
     "output_type": "stream",
     "text": [
      "only one map\n"
     ]
    },
    {
     "name": "stderr",
     "output_type": "stream",
     "text": [
      "C:\\Users\\work\\AppData\\Local\\Temp\\ipykernel_15692\\1443927380.py:41: SettingWithCopyWarning: \n",
      "A value is trying to be set on a copy of a slice from a DataFrame\n",
      "\n",
      "See the caveats in the documentation: https://pandas.pydata.org/pandas-docs/stable/user_guide/indexing.html#returning-a-view-versus-a-copy\n",
      "  df1['rounds_won'].iloc[5:] = away_rounds_won\n"
     ]
    },
    {
     "name": "stdout",
     "output_type": "stream",
     "text": [
      "1 Pearl 2 Haven 3 N/A\n"
     ]
    },
    {
     "name": "stderr",
     "output_type": "stream",
     "text": [
      "C:\\Users\\work\\AppData\\Local\\Temp\\ipykernel_15692\\1443927380.py:41: SettingWithCopyWarning: \n",
      "A value is trying to be set on a copy of a slice from a DataFrame\n",
      "\n",
      "See the caveats in the documentation: https://pandas.pydata.org/pandas-docs/stable/user_guide/indexing.html#returning-a-view-versus-a-copy\n",
      "  df1['rounds_won'].iloc[5:] = away_rounds_won\n",
      "C:\\Users\\work\\AppData\\Local\\Temp\\ipykernel_15692\\1443927380.py:41: SettingWithCopyWarning: \n",
      "A value is trying to be set on a copy of a slice from a DataFrame\n",
      "\n",
      "See the caveats in the documentation: https://pandas.pydata.org/pandas-docs/stable/user_guide/indexing.html#returning-a-view-versus-a-copy\n",
      "  df1['rounds_won'].iloc[5:] = away_rounds_won\n"
     ]
    },
    {
     "name": "stdout",
     "output_type": "stream",
     "text": [
      "only one map\n"
     ]
    },
    {
     "name": "stderr",
     "output_type": "stream",
     "text": [
      "C:\\Users\\work\\AppData\\Local\\Temp\\ipykernel_15692\\1443927380.py:41: SettingWithCopyWarning: \n",
      "A value is trying to be set on a copy of a slice from a DataFrame\n",
      "\n",
      "See the caveats in the documentation: https://pandas.pydata.org/pandas-docs/stable/user_guide/indexing.html#returning-a-view-versus-a-copy\n",
      "  df1['rounds_won'].iloc[5:] = away_rounds_won\n"
     ]
    },
    {
     "name": "stdout",
     "output_type": "stream",
     "text": [
      "1 Icebox 2 Lotus 3 Haven\n"
     ]
    },
    {
     "name": "stderr",
     "output_type": "stream",
     "text": [
      "C:\\Users\\work\\AppData\\Local\\Temp\\ipykernel_15692\\1443927380.py:41: SettingWithCopyWarning: \n",
      "A value is trying to be set on a copy of a slice from a DataFrame\n",
      "\n",
      "See the caveats in the documentation: https://pandas.pydata.org/pandas-docs/stable/user_guide/indexing.html#returning-a-view-versus-a-copy\n",
      "  df1['rounds_won'].iloc[5:] = away_rounds_won\n",
      "C:\\Users\\work\\AppData\\Local\\Temp\\ipykernel_15692\\1443927380.py:41: SettingWithCopyWarning: \n",
      "A value is trying to be set on a copy of a slice from a DataFrame\n",
      "\n",
      "See the caveats in the documentation: https://pandas.pydata.org/pandas-docs/stable/user_guide/indexing.html#returning-a-view-versus-a-copy\n",
      "  df1['rounds_won'].iloc[5:] = away_rounds_won\n",
      "C:\\Users\\work\\AppData\\Local\\Temp\\ipykernel_15692\\1443927380.py:41: SettingWithCopyWarning: \n",
      "A value is trying to be set on a copy of a slice from a DataFrame\n",
      "\n",
      "See the caveats in the documentation: https://pandas.pydata.org/pandas-docs/stable/user_guide/indexing.html#returning-a-view-versus-a-copy\n",
      "  df1['rounds_won'].iloc[5:] = away_rounds_won\n"
     ]
    },
    {
     "name": "stdout",
     "output_type": "stream",
     "text": [
      "1 Lotus 2 Bind 3 N/A\n"
     ]
    },
    {
     "name": "stderr",
     "output_type": "stream",
     "text": [
      "C:\\Users\\work\\AppData\\Local\\Temp\\ipykernel_15692\\1443927380.py:41: SettingWithCopyWarning: \n",
      "A value is trying to be set on a copy of a slice from a DataFrame\n",
      "\n",
      "See the caveats in the documentation: https://pandas.pydata.org/pandas-docs/stable/user_guide/indexing.html#returning-a-view-versus-a-copy\n",
      "  df1['rounds_won'].iloc[5:] = away_rounds_won\n",
      "C:\\Users\\work\\AppData\\Local\\Temp\\ipykernel_15692\\1443927380.py:41: SettingWithCopyWarning: \n",
      "A value is trying to be set on a copy of a slice from a DataFrame\n",
      "\n",
      "See the caveats in the documentation: https://pandas.pydata.org/pandas-docs/stable/user_guide/indexing.html#returning-a-view-versus-a-copy\n",
      "  df1['rounds_won'].iloc[5:] = away_rounds_won\n"
     ]
    },
    {
     "name": "stdout",
     "output_type": "stream",
     "text": [
      "1 Lotus 2 Ascent 3 N/A\n"
     ]
    },
    {
     "name": "stderr",
     "output_type": "stream",
     "text": [
      "C:\\Users\\work\\AppData\\Local\\Temp\\ipykernel_15692\\1443927380.py:41: SettingWithCopyWarning: \n",
      "A value is trying to be set on a copy of a slice from a DataFrame\n",
      "\n",
      "See the caveats in the documentation: https://pandas.pydata.org/pandas-docs/stable/user_guide/indexing.html#returning-a-view-versus-a-copy\n",
      "  df1['rounds_won'].iloc[5:] = away_rounds_won\n",
      "C:\\Users\\work\\AppData\\Local\\Temp\\ipykernel_15692\\1443927380.py:41: SettingWithCopyWarning: \n",
      "A value is trying to be set on a copy of a slice from a DataFrame\n",
      "\n",
      "See the caveats in the documentation: https://pandas.pydata.org/pandas-docs/stable/user_guide/indexing.html#returning-a-view-versus-a-copy\n",
      "  df1['rounds_won'].iloc[5:] = away_rounds_won\n"
     ]
    },
    {
     "name": "stdout",
     "output_type": "stream",
     "text": [
      "1 Haven 2 Fracture 3 Lotus\n"
     ]
    },
    {
     "name": "stderr",
     "output_type": "stream",
     "text": [
      "C:\\Users\\work\\AppData\\Local\\Temp\\ipykernel_15692\\1443927380.py:41: SettingWithCopyWarning: \n",
      "A value is trying to be set on a copy of a slice from a DataFrame\n",
      "\n",
      "See the caveats in the documentation: https://pandas.pydata.org/pandas-docs/stable/user_guide/indexing.html#returning-a-view-versus-a-copy\n",
      "  df1['rounds_won'].iloc[5:] = away_rounds_won\n",
      "C:\\Users\\work\\AppData\\Local\\Temp\\ipykernel_15692\\1443927380.py:41: SettingWithCopyWarning: \n",
      "A value is trying to be set on a copy of a slice from a DataFrame\n",
      "\n",
      "See the caveats in the documentation: https://pandas.pydata.org/pandas-docs/stable/user_guide/indexing.html#returning-a-view-versus-a-copy\n",
      "  df1['rounds_won'].iloc[5:] = away_rounds_won\n",
      "C:\\Users\\work\\AppData\\Local\\Temp\\ipykernel_15692\\1443927380.py:41: SettingWithCopyWarning: \n",
      "A value is trying to be set on a copy of a slice from a DataFrame\n",
      "\n",
      "See the caveats in the documentation: https://pandas.pydata.org/pandas-docs/stable/user_guide/indexing.html#returning-a-view-versus-a-copy\n",
      "  df1['rounds_won'].iloc[5:] = away_rounds_won\n"
     ]
    },
    {
     "name": "stdout",
     "output_type": "stream",
     "text": [
      "only one map\n"
     ]
    },
    {
     "name": "stderr",
     "output_type": "stream",
     "text": [
      "C:\\Users\\work\\AppData\\Local\\Temp\\ipykernel_15692\\1443927380.py:41: SettingWithCopyWarning: \n",
      "A value is trying to be set on a copy of a slice from a DataFrame\n",
      "\n",
      "See the caveats in the documentation: https://pandas.pydata.org/pandas-docs/stable/user_guide/indexing.html#returning-a-view-versus-a-copy\n",
      "  df1['rounds_won'].iloc[5:] = away_rounds_won\n"
     ]
    },
    {
     "name": "stdout",
     "output_type": "stream",
     "text": [
      "1 Haven 2 Ascent 3 Split\n"
     ]
    },
    {
     "name": "stderr",
     "output_type": "stream",
     "text": [
      "C:\\Users\\work\\AppData\\Local\\Temp\\ipykernel_15692\\1443927380.py:41: SettingWithCopyWarning: \n",
      "A value is trying to be set on a copy of a slice from a DataFrame\n",
      "\n",
      "See the caveats in the documentation: https://pandas.pydata.org/pandas-docs/stable/user_guide/indexing.html#returning-a-view-versus-a-copy\n",
      "  df1['rounds_won'].iloc[5:] = away_rounds_won\n",
      "C:\\Users\\work\\AppData\\Local\\Temp\\ipykernel_15692\\1443927380.py:41: SettingWithCopyWarning: \n",
      "A value is trying to be set on a copy of a slice from a DataFrame\n",
      "\n",
      "See the caveats in the documentation: https://pandas.pydata.org/pandas-docs/stable/user_guide/indexing.html#returning-a-view-versus-a-copy\n",
      "  df1['rounds_won'].iloc[5:] = away_rounds_won\n"
     ]
    },
    {
     "name": "stdout",
     "output_type": "stream",
     "text": [
      "map 3 link not working\n"
     ]
    }
   ],
   "source": [
    "for link in links:\n",
    "    get_data_and_upload(link)\n",
    "    time.sleep(2.3 + random.random())\n",
    "\n",
    "\n",
    "conn.close()"
   ],
   "metadata": {
    "collapsed": false,
    "pycharm": {
     "name": "#%%\n"
    }
   }
  }
 ],
 "metadata": {
  "kernelspec": {
   "display_name": "Python 3",
   "language": "python",
   "name": "python3"
  },
  "language_info": {
   "codemirror_mode": {
    "name": "ipython",
    "version": 2
   },
   "file_extension": ".py",
   "mimetype": "text/x-python",
   "name": "python",
   "nbconvert_exporter": "python",
   "pygments_lexer": "ipython2",
   "version": "2.7.6"
  }
 },
 "nbformat": 4,
 "nbformat_minor": 0
}