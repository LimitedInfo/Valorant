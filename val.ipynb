{
 "cells": [
  {
   "cell_type": "code",
   "execution_count": 1,
   "outputs": [],
   "source": [
    "from selenium.webdriver.common.by import By\n",
    "from selenium import webdriver\n",
    "from selenium.common.exceptions import NoSuchElementException\n",
    "import pandas as pd\n",
    "import sqlite3\n",
    "import time\n",
    "import random"
   ],
   "metadata": {
    "collapsed": false,
    "pycharm": {
     "name": "#%%\n"
    }
   }
  },
  {
   "cell_type": "markdown",
   "source": [
    "data\n",
    "map 1 = 0/1\n",
    "map 2 = 4/5\n",
    "map 3 = 6/7"
   ],
   "metadata": {
    "collapsed": false,
    "pycharm": {
     "name": "#%% md\n"
    }
   }
  },
  {
   "cell_type": "code",
   "execution_count": 2,
   "outputs": [],
   "source": [
    "def get_totals(cell):\n",
    "    return cell.split()[0]\n",
    "\n",
    "def get_totals_d(cell):\n",
    "    return cell.split()[1]\n",
    "\n",
    "def format_dataframe(dataframes, map_num):\n",
    "    \"\"\"\n",
    "    unduplicates data\n",
    "\n",
    "    :param dataframes: dataframes returned using the pandas read_html function on the page source\n",
    "    :param map_num: indexed starting at 1 for which map is being played in a series\n",
    "    :return: formatted df\n",
    "    \"\"\"\n",
    "\n",
    "    if map_num == 1:\n",
    "        formatting_df = pd.concat(dataframes[:2])\n",
    "    elif map_num == 2:\n",
    "        formatting_df = pd.concat([dataframes[4], dataframes[5]])\n",
    "\n",
    "\n",
    "    elif map_num == 3:\n",
    "        try:\n",
    "            formatting_df = pd.concat([dataframes[6], dataframes[7]])\n",
    "        except IndexError as x:\n",
    "            print('map 3 link not working')\n",
    "            return\n",
    "\n",
    "\n",
    "\n",
    "    formatting_df = formatting_df.reset_index()\n",
    "    formatting_df = formatting_df.drop(columns=['index', 'Unnamed: 1'])\n",
    "\n",
    "    formatting_df.iloc[:, 1:4] = formatting_df.iloc[:, 1:4].applymap(get_totals)\n",
    "    formatting_df.iloc[:, 5:] = formatting_df.iloc[:, 5:].applymap(get_totals)\n",
    "    formatting_df['PLAYER'] = formatting_df['Unnamed: 0'].apply(lambda x: x.split()[0])\n",
    "    formatting_df['TEAM'] = formatting_df['Unnamed: 0'].apply(lambda x: x.split()[1])\n",
    "\n",
    "    formatting_df = formatting_df.drop(columns=['Unnamed: 0'])\n",
    "\n",
    "    formatting_df.iloc[:, 3] = formatting_df.iloc[:, 3].apply(get_totals_d)\n",
    "\n",
    "    return formatting_df\n",
    "\n",
    "\n",
    "def get_match_results_data(source, link):\n",
    "    \"\"\"\n",
    "    :param source: pagesource\n",
    "    :param link: link for particular match results page\n",
    "    :return: multiple dataframes of match results, names for images/agent names\n",
    "    \"\"\"\n",
    "    dfs = pd.read_html(source)\n",
    "\n",
    "    img_elements = driver.find_elements(By.TAG_NAME, value='img')\n",
    "\n",
    "    # Loop through each image element and extract the \"alt\" text\n",
    "    alt_texts = []\n",
    "    for img_element in img_elements:\n",
    "        alt_text = img_element.get_attribute('alt')\n",
    "        if alt_text:\n",
    "            alt_texts.append(alt_text)\n",
    "\n",
    "\n",
    "    return dfs, alt_texts"
   ],
   "metadata": {
    "collapsed": false,
    "pycharm": {
     "name": "#%%\n"
    }
   }
  },
  {
   "cell_type": "markdown",
   "source": [
    "team information\n",
    "0/1 = map 1 = 0\n",
    "4/5 = map 2 = 1\n",
    "8/9 = map 3 = 2\n"
   ],
   "metadata": {
    "collapsed": false,
    "pycharm": {
     "name": "#%% md\n"
    }
   }
  },
  {
   "cell_type": "code",
   "execution_count": 3,
   "outputs": [],
   "source": [
    "def get_data(driver, map_num, map_name):\n",
    "    dfs = pd.read_html(driver.page_source)\n",
    "    df1 = format_dataframe(dfs, map_num)\n",
    "\n",
    "    #skip if no table is provided\n",
    "    if df1 is None:\n",
    "        return\n",
    "\n",
    "    #define element needed to be searched for team information depending on map number\n",
    "    if map_num == 1:\n",
    "        team_nums = [0,1]\n",
    "    elif map_num == 2:\n",
    "        team_nums = [4,5]\n",
    "    elif map_num == 3:\n",
    "        team_nums = [8,9]\n",
    "\n",
    "    #add agents\n",
    "    dfs, alt_texts = get_match_results_data(driver.page_source, links[0])\n",
    "    df1['AGENT'] = alt_texts[2:12]\n",
    "\n",
    "    # Get Time/Teams/Map for creating a primary key\n",
    "    time_of_map = driver.find_element(By.CLASS_NAME, value='moment-tz-convert')\n",
    "    time_of_map = time_of_map.get_attribute('data-utc-ts')\n",
    "\n",
    "    # map_name = driver.find_element(By.CLASS_NAME, value='map')\n",
    "    # print(map_name.text)\n",
    "    # map_name = map_name.text.split('\\n')[0]\n",
    "    df1['map'] = map_name\n",
    "\n",
    "\n",
    "    #get rounds won and team names\n",
    "    team_information = driver.find_elements(By.CLASS_NAME, value='vm-stats-game-header')[map_num-1]\n",
    "    right_team = team_information.find_element(By.CLASS_NAME, value='team.mod-right')\n",
    "    left_team = team_information.find_element(By.CLASS_NAME, value='team')\n",
    "\n",
    "    formatted_team_information = right_team.text.split('\\n')\n",
    "\n",
    "    away_team_information = formatted_team_information[0]\n",
    "    away_rounds_won = formatted_team_information[-1]\n",
    "    df1['rounds_won'] = 0\n",
    "    df1['rounds_won'].iloc[5:] = away_rounds_won\n",
    "\n",
    "    formatted_team_information_home = left_team.text.split('\\n')\n",
    "\n",
    "    home_team_information = formatted_team_information_home[-2]\n",
    "    home_rounds_won = formatted_team_information_home[0]\n",
    "    df1['rounds_won'].iloc[:5] = home_rounds_won\n",
    "\n",
    "    #create primary key\n",
    "    df1['match_id'] = home_team_information + ' ' + away_team_information + ' ' + map_name + ' ' + time_of_map\n",
    "\n",
    "    return df1"
   ],
   "metadata": {
    "collapsed": false,
    "pycharm": {
     "name": "#%%\n"
    }
   }
  },
  {
   "cell_type": "code",
   "execution_count": 4,
   "outputs": [],
   "source": [
    "# create a function to import pandas dataframes into the database\n",
    "def import_df_to_sqlite(df, table_name, conn):\n",
    "    df.to_sql(name=table_name, con=conn, if_exists='append', index=False)\n",
    "\n",
    "def dataframes_to_sql(dataframes, conn):\n",
    "    # import the dataframes into the database using the function\n",
    "    for dataframe in dataframes:\n",
    "        if dataframe is not None:\n",
    "            import_df_to_sqlite(dataframe, 'val', conn)"
   ],
   "metadata": {
    "collapsed": false,
    "pycharm": {
     "name": "#%%\n"
    }
   }
  },
  {
   "cell_type": "code",
   "execution_count": 5,
   "outputs": [],
   "source": [
    "def get_links(matches_path):\n",
    "    driver = webdriver.Chrome(executable_path=chromedriver_path)\n",
    "\n",
    "\n",
    "    # navigate to a website\n",
    "    driver.get(matches_path)\n",
    "\n",
    "    anchors = driver.find_elements(by=By.CSS_SELECTOR, value='a')\n",
    "\n",
    "    links = []\n",
    "    # Iterate over each anchor element and extract the href attribute\n",
    "    for anchor in anchors:\n",
    "        href = anchor.get_attribute('href')\n",
    "        links.append(href)\n",
    "\n",
    "    return links[14:-10]"
   ],
   "metadata": {
    "collapsed": false,
    "pycharm": {
     "name": "#%%\n"
    }
   }
  },
  {
   "cell_type": "code",
   "execution_count": 6,
   "outputs": [],
   "source": [
    "def get_data_and_upload(link):\n",
    "    driver.get(link)\n",
    "\n",
    "\n",
    "    try:\n",
    "        more_than_one_map = driver.find_element(By.CLASS_NAME, value='vm-stats-gamesnav.noselect  ')\n",
    "    except NoSuchElementException:\n",
    "        print('only one map')\n",
    "        more_than_one_map = None\n",
    "    dataframes = []\n",
    "\n",
    "    if more_than_one_map:\n",
    "        map_buttons_1 = driver.find_element(By.XPATH,\n",
    "                                            '//*[@id=\"wrapper\"]/div[1]/div[3]/div[6]/div/div[1]/div[2]/div/div[2]')\n",
    "        map_buttons_2 = driver.find_element(By.XPATH,\n",
    "                                            '//*[@id=\"wrapper\"]/div[1]/div[3]/div[6]/div/div[1]/div[2]/div/div[3]')\n",
    "        map_buttons_3 = driver.find_element(By.XPATH,\n",
    "                                            '//*[@id=\"wrapper\"]/div[1]/div[3]/div[6]/div/div[1]/div[2]/div/div[4]')\n",
    "        print(map_buttons_1.text, map_buttons_2.text, map_buttons_3.text)\n",
    "        map_buttons = [map_buttons_1, map_buttons_2, map_buttons_3]\n",
    "\n",
    "        for map, button in enumerate(map_buttons):\n",
    "            if 'N/A' not in button.text:\n",
    "                button.click()\n",
    "                df = get_data(driver, map + 1, map_buttons[map].text.split()[1])\n",
    "                dataframes.append(df)\n",
    "\n",
    "\n",
    "    else:\n",
    "        df = get_data(driver, 1, driver.find_element(By.CLASS_NAME, value='map').text.split('\\n')[0])\n",
    "        dataframes.append(df)\n",
    "    ### Add dataframes into SQLite database\n",
    "    dataframes_to_sql(dataframes, conn)"
   ],
   "metadata": {
    "collapsed": false,
    "pycharm": {
     "name": "#%%\n"
    }
   }
  },
  {
   "cell_type": "markdown",
   "source": [
    "### GET LINKS TO MATCH RESULTS"
   ],
   "metadata": {
    "collapsed": false,
    "pycharm": {
     "name": "#%% md\n"
    }
   }
  },
  {
   "cell_type": "markdown",
   "source": [
    "### Connect to DB, set paths urls"
   ],
   "metadata": {
    "collapsed": false,
    "pycharm": {
     "name": "#%% md\n"
    }
   }
  },
  {
   "cell_type": "code",
   "execution_count": 7,
   "outputs": [],
   "source": [
    "# create a connection to the SQLite database\n",
    "conn = sqlite3.connect('valorant.db')\n",
    "\n",
    "matches_path = 'https://www.vlr.gg/matches/results'\n",
    "chromedriver_path = r'C:\\Users\\work\\Sportsbetting\\Valorant\\chromedriver.exe'"
   ],
   "metadata": {
    "collapsed": false,
    "pycharm": {
     "name": "#%%\n"
    }
   }
  },
  {
   "cell_type": "markdown",
   "source": [
    "### get relevant match links"
   ],
   "metadata": {
    "collapsed": false,
    "pycharm": {
     "name": "#%% md\n"
    }
   }
  },
  {
   "cell_type": "code",
   "execution_count": 8,
   "outputs": [
    {
     "name": "stderr",
     "output_type": "stream",
     "text": [
      "C:\\Users\\work\\AppData\\Local\\Temp\\ipykernel_32876\\863616162.py:1: DeprecationWarning: executable_path has been deprecated, please pass in a Service object\n",
      "  driver = webdriver.Chrome(executable_path=chromedriver_path)\n"
     ]
    }
   ],
   "source": [
    "driver = webdriver.Chrome(executable_path=chromedriver_path)\n",
    "# # navigate to a website\n",
    "driver.get(matches_path)\n",
    "\n",
    "#\n",
    "# anchors = driver.find_elements(by=By.CSS_SELECTOR, value='a')\n",
    "#\n",
    "# links = []\n",
    "# # Iterate over each anchor element and extract the href attribute\n",
    "# for anchor in anchors:\n",
    "#     href = anchor.get_attribute('href')\n",
    "#     links.append(href)\n",
    "#\n",
    "# links = links[14:-10]"
   ],
   "metadata": {
    "collapsed": false,
    "pycharm": {
     "name": "#%%\n"
    }
   }
  },
  {
   "cell_type": "markdown",
   "source": [
    "### Add dataframes into SQLite database"
   ],
   "metadata": {
    "collapsed": false,
    "pycharm": {
     "name": "#%% md\n"
    }
   }
  },
  {
   "cell_type": "code",
   "execution_count": 9,
   "outputs": [],
   "source": [
    "first_results_page = '/?page=2'"
   ],
   "metadata": {
    "collapsed": false,
    "pycharm": {
     "name": "#%%\n"
    }
   }
  },
  {
   "cell_type": "code",
   "execution_count": 10,
   "outputs": [],
   "source": [
    "# links = get_links(matches_path + first_results_page)"
   ],
   "metadata": {
    "collapsed": false,
    "pycharm": {
     "name": "#%%\n"
    }
   }
  },
  {
   "cell_type": "code",
   "execution_count": 11,
   "outputs": [],
   "source": [
    "links = []"
   ],
   "metadata": {
    "collapsed": false,
    "pycharm": {
     "name": "#%%\n"
    }
   }
  },
  {
   "cell_type": "code",
   "execution_count": 12,
   "outputs": [
    {
     "name": "stderr",
     "output_type": "stream",
     "text": [
      "C:\\Users\\work\\AppData\\Local\\Temp\\ipykernel_32876\\1054020278.py:2: DeprecationWarning: executable_path has been deprecated, please pass in a Service object\n",
      "  driver = webdriver.Chrome(executable_path=chromedriver_path)\n"
     ]
    }
   ],
   "source": [
    "for x in range(2,100):\n",
    "    links = links + get_links(matches_path + first_results_page[:-1] + str(x))"
   ],
   "metadata": {
    "collapsed": false,
    "pycharm": {
     "name": "#%%\n"
    }
   }
  },
  {
   "cell_type": "code",
   "execution_count": 13,
   "outputs": [],
   "source": [
    "cleaned_links = []\n",
    "for link in links:\n",
    "    if len(link) < (len(matches_path) + 10):\n",
    "        pass\n",
    "    else:\n",
    "        cleaned_links.append(link)\n"
   ],
   "metadata": {
    "collapsed": false,
    "pycharm": {
     "name": "#%%\n"
    }
   }
  },
  {
   "cell_type": "code",
   "execution_count": 14,
   "outputs": [
    {
     "data": {
      "text/plain": "['https://www.vlr.gg/193286/koopa-troopas-vs-xyz-challengers-league-oceania-split-2-group-stage-w7',\n 'https://www.vlr.gg/188336/alter-ego-vs-hike-digital-esports-challengers-league-indonesia-split-2-r7',\n 'https://www.vlr.gg/204440/attacking-soul-esports-vs-edward-gaming-fgc-valorant-invitational-2023-act-2-ubsf',\n 'https://www.vlr.gg/209026/maru-gaming-vs-nongshim-redforce-world-cyber-games-challengers-league-korea-split-2-ubsf',\n 'https://www.vlr.gg/193285/funcrew-vs-mammoth-esc-challengers-league-oceania-split-2-group-stage-w7',\n 'https://www.vlr.gg/188335/le-crapaud-vs-arf-team-challengers-league-indonesia-split-2-r7',\n 'https://www.vlr.gg/209025/dplus-esports-vs-gwangju-shadow-world-cyber-games-challengers-league-korea-split-2-ubsf',\n 'https://www.vlr.gg/196162/shopify-rebellion-vs-turtle-troop-challengers-league-north-america-w10',\n 'https://www.vlr.gg/193576/red-canids-vs-the-union-challengers-league-brazil-split-2-w7',\n 'https://www.vlr.gg/202368/ebro-gaming-vs-furious-gaming-challengers-league-latam-south-fire-split-2-w4',\n 'https://www.vlr.gg/196158/the-guard-vs-g2-esports-challengers-league-north-america-w10',\n 'https://www.vlr.gg/193575/tropicaos-vs-keyd-stars-challengers-league-brazil-split-2-w7',\n 'https://www.vlr.gg/202367/9z-team-vs-all-knights-challengers-league-latam-south-fire-split-2-w4',\n 'https://www.vlr.gg/184057/fnatic-vs-natus-vincere-champions-tour-2023-emea-league-w8',\n 'https://www.vlr.gg/196159/moist-moguls-vs-faze-clan-challengers-league-north-america-w10',\n 'https://www.vlr.gg/202366/optix-vs-infinity-challengers-league-latam-south-fire-split-2-w4',\n 'https://www.vlr.gg/204051/velocity-gaming-vs-reckoning-esports-challengers-league-south-asia-split-2-w4',\n 'https://www.vlr.gg/204439/funplus-phoenix-vs-weibo-gaming-fgc-valorant-invitational-2023-act-2-qf',\n 'https://www.vlr.gg/193284/the-who-vs-nerdpunt-challengers-league-oceania-split-2-group-stage-w7',\n 'https://www.vlr.gg/188334/boom-esports-vs-dewa-united-esports-challengers-league-indonesia-split-2-r6',\n 'https://www.vlr.gg/209024/incheon-on-sla2ers-vs-nongshim-redforce-world-cyber-games-challengers-league-korea-split-2-ur1',\n 'https://www.vlr.gg/204438/bilibili-gaming-vs-nter-fgc-valorant-invitational-2023-act-2-qf',\n 'https://www.vlr.gg/193283/guangzhou-long-lionz-vs-bonkers-challengers-league-oceania-split-2-group-stage-w7',\n 'https://www.vlr.gg/188333/bigetron-arctic-vs-alter-ego-challengers-league-indonesia-split-2-r6',\n 'https://www.vlr.gg/209023/gwangju-shadow-vs-slt-seongam-world-cyber-games-challengers-league-korea-split-2-ur1',\n 'https://www.vlr.gg/202349/e-xolos-lazer-vs-skull-cracker-challengers-league-latam-north-ace-split-2-w4',\n 'https://www.vlr.gg/196163/disguised-vs-tsm-challengers-league-north-america-w10',\n 'https://www.vlr.gg/202348/reta-esports-vs-six-karma-challengers-league-latam-north-ace-split-2-w4',\n 'https://www.vlr.gg/193574/tbk-esports-vs-oddik-challengers-league-brazil-split-2-w7',\n 'https://www.vlr.gg/188510/ex0tik-gaming-vs-ftw-esports-challengers-league-portugal-tempest-split-2-regular-season-r14',\n 'https://www.vlr.gg/196161/m80-vs-oxygen-esports-challengers-league-north-america-w10',\n 'https://www.vlr.gg/188509/egn-esports-vs-team-vikings-challengers-league-portugal-tempest-split-2-regular-season-r14',\n 'https://www.vlr.gg/206518/blx-utd-vs-zerance-challengers-league-france-revolution-split-2-w6',\n 'https://www.vlr.gg/193573/liberty-vs-00nation-challengers-league-brazil-split-2-w7',\n 'https://www.vlr.gg/188508/panthers-esports-vs-saw-challengers-league-portugal-tempest-split-2-regular-season-r14',\n 'https://www.vlr.gg/202347/fusion-vs-19esports-challengers-league-latam-north-ace-split-2-w4',\n 'https://www.vlr.gg/206517/3dmax-vs-joblife-challengers-league-france-revolution-split-2-w6',\n 'https://www.vlr.gg/210230/movistar-riders-vs-ucam-tokiers-challengers-league-spain-rising-split-2-r16',\n 'https://www.vlr.gg/188507/gtz-esports-vs-impulse-gw-challengers-league-portugal-tempest-split-2-regular-season-r14',\n 'https://www.vlr.gg/206516/mandatory-vs-solary-challengers-league-france-revolution-split-2-w6',\n 'https://www.vlr.gg/209403/bbl-queens-vs-g2-gozen-game-changers-2023-series-i-emea-playoffs-ubf',\n 'https://www.vlr.gg/189618/anonymo-esports-vs-zero-tenacity-challengers-league-east-surge-split-2-r16',\n 'https://www.vlr.gg/196160/mad-lions-vs-oresports-challengers-league-north-america-w10',\n 'https://www.vlr.gg/210229/case-esports-vs-zeta-gaming-challengers-league-spain-rising-split-2-r16',\n 'https://www.vlr.gg/206515/wylde-vs-gentle-mates-challengers-league-france-revolution-split-2-w6',\n 'https://www.vlr.gg/210228/rebels-gaming-vs-team-queso-challengers-league-spain-rising-split-2-r16',\n 'https://www.vlr.gg/189617/tbd-vs-diamant-esports-challengers-league-east-surge-split-2-r16',\n 'https://www.vlr.gg/188584/emasters-vs-apeks-challengers-league-northern-europe-polaris-split-2-r7',\n 'https://www.vlr.gg/189615/enterprise-esports-vs-b8-esports-challengers-league-east-surge-split-2-r16',\n 'https://www.vlr.gg/206514/akroma-vs-valiant-challengers-league-france-revolution-split-2-w6',\n 'https://www.vlr.gg/209407/acend-rising-vs-guild-x-game-changers-2023-series-i-emea-playoffs-lr2',\n 'https://www.vlr.gg/210227/falcons-vs-kpi-gaming-challengers-league-spain-rising-split-2-r16',\n 'https://www.vlr.gg/210509/nasr-esports-vs-team-raad-challengers-league-mena-resilience-split-2-gf',\n 'https://www.vlr.gg/189614/gonext-esports-vs-acend-challengers-league-east-surge-split-2-r16',\n 'https://www.vlr.gg/210226/ramboot-club-vs-aym-esports-challengers-league-spain-rising-split-2-r16',\n 'https://www.vlr.gg/204437/edward-gaming-vs-dragon-ranger-gaming-fgc-valorant-invitational-2023-act-2-qf',\n 'https://www.vlr.gg/184502/rex-regum-qeon-vs-paper-rex-champions-tour-2023-pacific-league-w8',\n 'https://www.vlr.gg/204436/totoro-gaming-vs-attacking-soul-esports-fgc-valorant-invitational-2023-act-2-qf',\n 'https://www.vlr.gg/184501/talon-esports-vs-detonation-focusme-champions-tour-2023-pacific-league-w8',\n 'https://www.vlr.gg/188506/panthers-esports-vs-gtz-esports-challengers-league-portugal-tempest-split-2-regular-season-r13',\n 'https://www.vlr.gg/188505/saw-vs-ftw-esports-challengers-league-portugal-tempest-split-2-regular-season-r13',\n 'https://www.vlr.gg/206508/3dmax-vs-valiant-challengers-league-france-revolution-split-2-w6',\n 'https://www.vlr.gg/188504/team-vikings-vs-ex0tik-gaming-challengers-league-portugal-tempest-split-2-regular-season-r13',\n 'https://www.vlr.gg/210225/ramboot-club-vs-team-queso-challengers-league-spain-rising-split-2-r15',\n 'https://www.vlr.gg/206507/wylde-vs-blx-utd-challengers-league-france-revolution-split-2-w6',\n 'https://www.vlr.gg/183816/leviat-n-vs-cloud9-champions-tour-2023-americas-league-w7',\n 'https://www.vlr.gg/188503/impulse-gw-vs-egn-esports-challengers-league-portugal-tempest-split-2-regular-season-r13',\n 'https://www.vlr.gg/209406/karmine-corp-gc-vs-guild-x-game-changers-2023-series-i-emea-playoffs-lr1',\n 'https://www.vlr.gg/206506/zerance-vs-joblife-challengers-league-france-revolution-split-2-w6',\n 'https://www.vlr.gg/210224/movistar-riders-vs-kpi-gaming-challengers-league-spain-rising-split-2-r15',\n 'https://www.vlr.gg/188585/les-petits-bouffons-vs-fokus-challengers-league-northern-europe-polaris-split-2-r7',\n 'https://www.vlr.gg/189609/tbd-vs-anonymo-esports-challengers-league-east-surge-split-2-r15',\n 'https://www.vlr.gg/189095/stanbul-wildcats-vs-s2g-esports-challengers-league-turkey-birlik-split-2-group-stage-w6',\n 'https://www.vlr.gg/189607/nom-esports-vs-acend-challengers-league-east-surge-split-2-r15',\n 'https://www.vlr.gg/206505/mandatory-vs-akroma-challengers-league-france-revolution-split-2-w6',\n 'https://www.vlr.gg/210223/falcons-vs-case-esports-challengers-league-spain-rising-split-2-r15',\n 'https://www.vlr.gg/188582/vamonos-vs-coalesce-challengers-league-northern-europe-polaris-split-2-r7',\n 'https://www.vlr.gg/189606/b8-esports-vs-zero-tenacity-challengers-league-east-surge-split-2-r15',\n 'https://www.vlr.gg/206504/solary-vs-gentle-mates-challengers-league-france-revolution-split-2-w6',\n 'https://www.vlr.gg/209405/acend-rising-vs-cba-game-changers-2023-series-i-emea-playoffs-lr1',\n 'https://www.vlr.gg/210222/ucam-tokiers-vs-aym-esports-challengers-league-spain-rising-split-2-r15',\n 'https://www.vlr.gg/210504/team-falcons-vs-triple-esports-club-challengers-league-mena-resilience-split-2-gf',\n 'https://www.vlr.gg/189605/enterprise-esports-vs-diamant-esports-challengers-league-east-surge-split-2-r15',\n 'https://www.vlr.gg/210221/zeta-gaming-vs-rebels-gaming-challengers-league-spain-rising-split-2-r15',\n 'https://www.vlr.gg/189096/galakticos-vs-fenerbah-e-esports-challengers-league-turkey-birlik-split-2-group-stage-w6',\n 'https://www.vlr.gg/204050/true-rippers-vs-aster-army-challengers-league-south-asia-split-2-w3',\n 'https://www.vlr.gg/184500/team-secret-vs-global-esports-champions-tour-2023-pacific-league-w8',\n 'https://www.vlr.gg/184499/t1-vs-drx-champions-tour-2023-pacific-league-w8',\n 'https://www.vlr.gg/183815/nrg-esports-vs-loud-champions-tour-2023-americas-league-w7',\n 'https://www.vlr.gg/188433/axolotl-vs-dsyre-challengers-league-italy-rinascimento-split-2-w7',\n 'https://www.vlr.gg/206503/wylde-vs-akroma-challengers-league-france-revolution-split-2-w6',\n 'https://www.vlr.gg/189602/enterprise-esports-vs-gonext-esports-challengers-league-east-surge-split-2-r14',\n 'https://www.vlr.gg/210219/zeta-gaming-vs-team-queso-challengers-league-spain-rising-split-2-r14',\n 'https://www.vlr.gg/209402/acend-rising-vs-g2-gozen-game-changers-2023-series-i-emea-playoffs-ubsf',\n 'https://www.vlr.gg/188432/macko-esports-vs-wlgaming-esports-challengers-league-italy-rinascimento-split-2-w7',\n 'https://www.vlr.gg/183814/kr-esports-vs-sentinels-champions-tour-2023-americas-league-w7',\n 'https://www.vlr.gg/206502/blx-utd-vs-solary-challengers-league-france-revolution-split-2-w6',\n 'https://www.vlr.gg/189603/tbd-vs-nom-esports-challengers-league-east-surge-split-2-r14',\n 'https://www.vlr.gg/210508/geekay-esports-vs-team-raad-challengers-league-mena-resilience-split-2-lr',\n 'https://www.vlr.gg/210218/case-esports-vs-kpi-gaming-challengers-league-spain-rising-split-2-r14']"
     },
     "execution_count": 14,
     "metadata": {},
     "output_type": "execute_result"
    }
   ],
   "source": [
    "cleaned_links"
   ],
   "metadata": {
    "collapsed": false,
    "pycharm": {
     "name": "#%%\n"
    }
   }
  },
  {
   "cell_type": "code",
   "execution_count": 17,
   "outputs": [
    {
     "name": "stdout",
     "output_type": "stream",
     "text": [
      "1 Haven 2 Ascent 3 Lotus\n"
     ]
    },
    {
     "name": "stderr",
     "output_type": "stream",
     "text": [
      "C:\\Users\\work\\AppData\\Local\\Temp\\ipykernel_32876\\1443927380.py:41: SettingWithCopyWarning: \n",
      "A value is trying to be set on a copy of a slice from a DataFrame\n",
      "\n",
      "See the caveats in the documentation: https://pandas.pydata.org/pandas-docs/stable/user_guide/indexing.html#returning-a-view-versus-a-copy\n",
      "  df1['rounds_won'].iloc[5:] = away_rounds_won\n",
      "C:\\Users\\work\\AppData\\Local\\Temp\\ipykernel_32876\\1443927380.py:41: SettingWithCopyWarning: \n",
      "A value is trying to be set on a copy of a slice from a DataFrame\n",
      "\n",
      "See the caveats in the documentation: https://pandas.pydata.org/pandas-docs/stable/user_guide/indexing.html#returning-a-view-versus-a-copy\n",
      "  df1['rounds_won'].iloc[5:] = away_rounds_won\n",
      "C:\\Users\\work\\AppData\\Local\\Temp\\ipykernel_32876\\1443927380.py:41: SettingWithCopyWarning: \n",
      "A value is trying to be set on a copy of a slice from a DataFrame\n",
      "\n",
      "See the caveats in the documentation: https://pandas.pydata.org/pandas-docs/stable/user_guide/indexing.html#returning-a-view-versus-a-copy\n",
      "  df1['rounds_won'].iloc[5:] = away_rounds_won\n"
     ]
    },
    {
     "name": "stdout",
     "output_type": "stream",
     "text": [
      "1 Fracture 2 Haven 3 Bind\n"
     ]
    },
    {
     "name": "stderr",
     "output_type": "stream",
     "text": [
      "C:\\Users\\work\\AppData\\Local\\Temp\\ipykernel_32876\\1443927380.py:41: SettingWithCopyWarning: \n",
      "A value is trying to be set on a copy of a slice from a DataFrame\n",
      "\n",
      "See the caveats in the documentation: https://pandas.pydata.org/pandas-docs/stable/user_guide/indexing.html#returning-a-view-versus-a-copy\n",
      "  df1['rounds_won'].iloc[5:] = away_rounds_won\n",
      "C:\\Users\\work\\AppData\\Local\\Temp\\ipykernel_32876\\1443927380.py:41: SettingWithCopyWarning: \n",
      "A value is trying to be set on a copy of a slice from a DataFrame\n",
      "\n",
      "See the caveats in the documentation: https://pandas.pydata.org/pandas-docs/stable/user_guide/indexing.html#returning-a-view-versus-a-copy\n",
      "  df1['rounds_won'].iloc[5:] = away_rounds_won\n"
     ]
    },
    {
     "name": "stdout",
     "output_type": "stream",
     "text": [
      "map 3 link not working\n",
      "1 Bind 2 Fracture 3 Haven\n"
     ]
    },
    {
     "name": "stderr",
     "output_type": "stream",
     "text": [
      "C:\\Users\\work\\AppData\\Local\\Temp\\ipykernel_32876\\1443927380.py:41: SettingWithCopyWarning: \n",
      "A value is trying to be set on a copy of a slice from a DataFrame\n",
      "\n",
      "See the caveats in the documentation: https://pandas.pydata.org/pandas-docs/stable/user_guide/indexing.html#returning-a-view-versus-a-copy\n",
      "  df1['rounds_won'].iloc[5:] = away_rounds_won\n",
      "C:\\Users\\work\\AppData\\Local\\Temp\\ipykernel_32876\\1443927380.py:41: SettingWithCopyWarning: \n",
      "A value is trying to be set on a copy of a slice from a DataFrame\n",
      "\n",
      "See the caveats in the documentation: https://pandas.pydata.org/pandas-docs/stable/user_guide/indexing.html#returning-a-view-versus-a-copy\n",
      "  df1['rounds_won'].iloc[5:] = away_rounds_won\n"
     ]
    },
    {
     "name": "stdout",
     "output_type": "stream",
     "text": [
      "map 3 link not working\n",
      "1 Haven 2 Ascent 3 Lotus\n"
     ]
    },
    {
     "name": "stderr",
     "output_type": "stream",
     "text": [
      "C:\\Users\\work\\AppData\\Local\\Temp\\ipykernel_32876\\1443927380.py:41: SettingWithCopyWarning: \n",
      "A value is trying to be set on a copy of a slice from a DataFrame\n",
      "\n",
      "See the caveats in the documentation: https://pandas.pydata.org/pandas-docs/stable/user_guide/indexing.html#returning-a-view-versus-a-copy\n",
      "  df1['rounds_won'].iloc[5:] = away_rounds_won\n",
      "C:\\Users\\work\\AppData\\Local\\Temp\\ipykernel_32876\\1443927380.py:41: SettingWithCopyWarning: \n",
      "A value is trying to be set on a copy of a slice from a DataFrame\n",
      "\n",
      "See the caveats in the documentation: https://pandas.pydata.org/pandas-docs/stable/user_guide/indexing.html#returning-a-view-versus-a-copy\n",
      "  df1['rounds_won'].iloc[5:] = away_rounds_won\n",
      "C:\\Users\\work\\AppData\\Local\\Temp\\ipykernel_32876\\1443927380.py:41: SettingWithCopyWarning: \n",
      "A value is trying to be set on a copy of a slice from a DataFrame\n",
      "\n",
      "See the caveats in the documentation: https://pandas.pydata.org/pandas-docs/stable/user_guide/indexing.html#returning-a-view-versus-a-copy\n",
      "  df1['rounds_won'].iloc[5:] = away_rounds_won\n"
     ]
    }
   ],
   "source": [
    "conn = sqlite3.connect('valorant.db')\n",
    "for link in cleaned_links:\n",
    "    try:\n",
    "        get_data_and_upload(link)\n",
    "        time.sleep(2.3 + random.random())\n",
    "    except Exception as n:\n",
    "        print('match forfeited')\n",
    "        print(n)\n",
    "\n",
    "\n",
    "\n",
    "conn.close()"
   ],
   "metadata": {
    "collapsed": false,
    "pycharm": {
     "name": "#%%\n"
    }
   }
  },
  {
   "cell_type": "code",
   "execution_count": 16,
   "outputs": [],
   "source": [
    "conn.close()"
   ],
   "metadata": {
    "collapsed": false,
    "pycharm": {
     "name": "#%%\n"
    }
   }
  }
 ],
 "metadata": {
  "kernelspec": {
   "display_name": "Python 3",
   "language": "python",
   "name": "python3"
  },
  "language_info": {
   "codemirror_mode": {
    "name": "ipython",
    "version": 2
   },
   "file_extension": ".py",
   "mimetype": "text/x-python",
   "name": "python",
   "nbconvert_exporter": "python",
   "pygments_lexer": "ipython2",
   "version": "2.7.6"
  }
 },
 "nbformat": 4,
 "nbformat_minor": 0
}